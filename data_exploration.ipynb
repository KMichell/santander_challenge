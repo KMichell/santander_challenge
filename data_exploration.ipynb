{
 "cells": [
  {
   "cell_type": "code",
   "execution_count": 1,
   "metadata": {},
   "outputs": [],
   "source": [
    "import pandas as pd\n",
    "from math import ceil\n",
    "import numpy as np\n",
    "import pydot as pt\n",
    "import datetime as dt\n",
    "import matplotlib.pyplot as plt\n",
    "from sklearn.preprocessing import MinMaxScaler\n",
    "%matplotlib inline"
   ]
  },
  {
   "cell_type": "code",
   "execution_count": 10,
   "metadata": {},
   "outputs": [],
   "source": [
    "from sklearn.model_selection import train_test_split\n",
    "from sklearn.tree import ExtraTreeClassifier\n",
    "from sklearn.svm import LinearSVC\n",
    "from sklearn.preprocessing import LabelEncoder\n",
    "from sklearn.metrics import classification_report, roc_curve, auc, roc_auc_score\n",
    "\n",
    "import lightgbm as lgb\n",
    "import os\n",
    "#print(os.listdir(\"../input\"))\n",
    "import sys"
   ]
  },
  {
   "cell_type": "code",
   "execution_count": 3,
   "metadata": {},
   "outputs": [],
   "source": [
    "train_df = pd.read_csv('train.csv', low_memory = False)\n",
    "test_df = pd.read_csv('test.csv')\n",
    "\n",
    "columns_train = train_df.iloc[0].values\n",
    "\n",
    "train_df.columns = columns_train\n",
    "\n",
    "train_df = train_df.drop(0, axis = 0)\n",
    "\n",
    "train_df = train_df.drop('ID_code', axis = 1)\n",
    "test_df = test_df.drop('ID_code', axis = 1)\n",
    "\n",
    "train_df = train_df.apply(pd.to_numeric)\n",
    "test_df = test_df.apply(pd.to_numeric)"
   ]
  },
  {
   "cell_type": "code",
   "execution_count": 4,
   "metadata": {},
   "outputs": [
    {
     "data": {
      "text/plain": [
       "0    179902\n",
       "1     20098\n",
       "Name: target, dtype: int64"
      ]
     },
     "execution_count": 4,
     "metadata": {},
     "output_type": "execute_result"
    }
   ],
   "source": [
    "train_df.target.value_counts()"
   ]
  },
  {
   "cell_type": "code",
   "execution_count": 5,
   "metadata": {},
   "outputs": [
    {
     "data": {
      "text/html": [
       "<div>\n",
       "<style scoped>\n",
       "    .dataframe tbody tr th:only-of-type {\n",
       "        vertical-align: middle;\n",
       "    }\n",
       "\n",
       "    .dataframe tbody tr th {\n",
       "        vertical-align: top;\n",
       "    }\n",
       "\n",
       "    .dataframe thead th {\n",
       "        text-align: right;\n",
       "    }\n",
       "</style>\n",
       "<table border=\"1\" class=\"dataframe\">\n",
       "  <thead>\n",
       "    <tr style=\"text-align: right;\">\n",
       "      <th></th>\n",
       "      <th>target</th>\n",
       "      <th>var_0</th>\n",
       "      <th>var_1</th>\n",
       "      <th>var_2</th>\n",
       "      <th>var_3</th>\n",
       "      <th>var_4</th>\n",
       "      <th>var_5</th>\n",
       "      <th>var_6</th>\n",
       "      <th>var_7</th>\n",
       "      <th>var_8</th>\n",
       "      <th>...</th>\n",
       "      <th>var_190</th>\n",
       "      <th>var_191</th>\n",
       "      <th>var_192</th>\n",
       "      <th>var_193</th>\n",
       "      <th>var_194</th>\n",
       "      <th>var_195</th>\n",
       "      <th>var_196</th>\n",
       "      <th>var_197</th>\n",
       "      <th>var_198</th>\n",
       "      <th>var_199</th>\n",
       "    </tr>\n",
       "  </thead>\n",
       "  <tbody>\n",
       "    <tr>\n",
       "      <th>count</th>\n",
       "      <td>200000.000000</td>\n",
       "      <td>200000.000000</td>\n",
       "      <td>200000.000000</td>\n",
       "      <td>200000.000000</td>\n",
       "      <td>200000.000000</td>\n",
       "      <td>200000.000000</td>\n",
       "      <td>200000.000000</td>\n",
       "      <td>200000.000000</td>\n",
       "      <td>200000.000000</td>\n",
       "      <td>200000.000000</td>\n",
       "      <td>...</td>\n",
       "      <td>200000.000000</td>\n",
       "      <td>200000.000000</td>\n",
       "      <td>200000.000000</td>\n",
       "      <td>200000.000000</td>\n",
       "      <td>200000.000000</td>\n",
       "      <td>200000.000000</td>\n",
       "      <td>200000.000000</td>\n",
       "      <td>200000.000000</td>\n",
       "      <td>200000.000000</td>\n",
       "      <td>200000.000000</td>\n",
       "    </tr>\n",
       "    <tr>\n",
       "      <th>mean</th>\n",
       "      <td>0.100490</td>\n",
       "      <td>10.679914</td>\n",
       "      <td>-1.627622</td>\n",
       "      <td>10.715192</td>\n",
       "      <td>6.796529</td>\n",
       "      <td>11.078333</td>\n",
       "      <td>-5.065317</td>\n",
       "      <td>5.408949</td>\n",
       "      <td>16.545850</td>\n",
       "      <td>0.284162</td>\n",
       "      <td>...</td>\n",
       "      <td>3.234440</td>\n",
       "      <td>7.438408</td>\n",
       "      <td>1.927839</td>\n",
       "      <td>3.331774</td>\n",
       "      <td>17.993784</td>\n",
       "      <td>-0.142088</td>\n",
       "      <td>2.303335</td>\n",
       "      <td>8.908158</td>\n",
       "      <td>15.870720</td>\n",
       "      <td>-3.326537</td>\n",
       "    </tr>\n",
       "    <tr>\n",
       "      <th>std</th>\n",
       "      <td>0.300653</td>\n",
       "      <td>3.040051</td>\n",
       "      <td>4.050044</td>\n",
       "      <td>2.640894</td>\n",
       "      <td>2.043319</td>\n",
       "      <td>1.623150</td>\n",
       "      <td>7.863267</td>\n",
       "      <td>0.866607</td>\n",
       "      <td>3.418076</td>\n",
       "      <td>3.332634</td>\n",
       "      <td>...</td>\n",
       "      <td>4.559922</td>\n",
       "      <td>3.023272</td>\n",
       "      <td>1.478423</td>\n",
       "      <td>3.992030</td>\n",
       "      <td>3.135162</td>\n",
       "      <td>1.429372</td>\n",
       "      <td>5.454369</td>\n",
       "      <td>0.921625</td>\n",
       "      <td>3.010945</td>\n",
       "      <td>10.438015</td>\n",
       "    </tr>\n",
       "    <tr>\n",
       "      <th>min</th>\n",
       "      <td>0.000000</td>\n",
       "      <td>0.408400</td>\n",
       "      <td>-15.043400</td>\n",
       "      <td>2.117100</td>\n",
       "      <td>-0.040200</td>\n",
       "      <td>5.074800</td>\n",
       "      <td>-32.562600</td>\n",
       "      <td>2.347300</td>\n",
       "      <td>5.349700</td>\n",
       "      <td>-10.505500</td>\n",
       "      <td>...</td>\n",
       "      <td>-14.093300</td>\n",
       "      <td>-2.691700</td>\n",
       "      <td>-3.814500</td>\n",
       "      <td>-11.783400</td>\n",
       "      <td>8.694400</td>\n",
       "      <td>-5.261000</td>\n",
       "      <td>-14.209600</td>\n",
       "      <td>5.960600</td>\n",
       "      <td>6.299300</td>\n",
       "      <td>-38.852800</td>\n",
       "    </tr>\n",
       "    <tr>\n",
       "      <th>25%</th>\n",
       "      <td>0.000000</td>\n",
       "      <td>8.453850</td>\n",
       "      <td>-4.740025</td>\n",
       "      <td>8.722475</td>\n",
       "      <td>5.254075</td>\n",
       "      <td>9.883175</td>\n",
       "      <td>-11.200350</td>\n",
       "      <td>4.767700</td>\n",
       "      <td>13.943800</td>\n",
       "      <td>-2.317800</td>\n",
       "      <td>...</td>\n",
       "      <td>-0.058825</td>\n",
       "      <td>5.157400</td>\n",
       "      <td>0.889775</td>\n",
       "      <td>0.584600</td>\n",
       "      <td>15.629800</td>\n",
       "      <td>-1.170700</td>\n",
       "      <td>-1.946925</td>\n",
       "      <td>8.252800</td>\n",
       "      <td>13.829700</td>\n",
       "      <td>-11.208475</td>\n",
       "    </tr>\n",
       "    <tr>\n",
       "      <th>50%</th>\n",
       "      <td>0.000000</td>\n",
       "      <td>10.524750</td>\n",
       "      <td>-1.608050</td>\n",
       "      <td>10.580000</td>\n",
       "      <td>6.825000</td>\n",
       "      <td>11.108250</td>\n",
       "      <td>-4.833150</td>\n",
       "      <td>5.385100</td>\n",
       "      <td>16.456800</td>\n",
       "      <td>0.393700</td>\n",
       "      <td>...</td>\n",
       "      <td>3.203600</td>\n",
       "      <td>7.347750</td>\n",
       "      <td>1.901300</td>\n",
       "      <td>3.396350</td>\n",
       "      <td>17.957950</td>\n",
       "      <td>-0.172700</td>\n",
       "      <td>2.408900</td>\n",
       "      <td>8.888200</td>\n",
       "      <td>15.934050</td>\n",
       "      <td>-2.819550</td>\n",
       "    </tr>\n",
       "    <tr>\n",
       "      <th>75%</th>\n",
       "      <td>0.000000</td>\n",
       "      <td>12.758200</td>\n",
       "      <td>1.358625</td>\n",
       "      <td>12.516700</td>\n",
       "      <td>8.324100</td>\n",
       "      <td>12.261125</td>\n",
       "      <td>0.924800</td>\n",
       "      <td>6.003000</td>\n",
       "      <td>19.102900</td>\n",
       "      <td>2.937900</td>\n",
       "      <td>...</td>\n",
       "      <td>6.406200</td>\n",
       "      <td>9.512525</td>\n",
       "      <td>2.949500</td>\n",
       "      <td>6.205800</td>\n",
       "      <td>20.396525</td>\n",
       "      <td>0.829600</td>\n",
       "      <td>6.556725</td>\n",
       "      <td>9.593300</td>\n",
       "      <td>18.064725</td>\n",
       "      <td>4.836800</td>\n",
       "    </tr>\n",
       "    <tr>\n",
       "      <th>max</th>\n",
       "      <td>1.000000</td>\n",
       "      <td>20.315000</td>\n",
       "      <td>10.376800</td>\n",
       "      <td>19.353000</td>\n",
       "      <td>13.188300</td>\n",
       "      <td>16.671400</td>\n",
       "      <td>17.251600</td>\n",
       "      <td>8.447700</td>\n",
       "      <td>27.691800</td>\n",
       "      <td>10.151300</td>\n",
       "      <td>...</td>\n",
       "      <td>18.440900</td>\n",
       "      <td>16.716500</td>\n",
       "      <td>8.402400</td>\n",
       "      <td>18.281800</td>\n",
       "      <td>27.928800</td>\n",
       "      <td>4.272900</td>\n",
       "      <td>18.321500</td>\n",
       "      <td>12.000400</td>\n",
       "      <td>26.079100</td>\n",
       "      <td>28.500700</td>\n",
       "    </tr>\n",
       "  </tbody>\n",
       "</table>\n",
       "<p>8 rows × 201 columns</p>\n",
       "</div>"
      ],
      "text/plain": [
       "              target          var_0          var_1          var_2  \\\n",
       "count  200000.000000  200000.000000  200000.000000  200000.000000   \n",
       "mean        0.100490      10.679914      -1.627622      10.715192   \n",
       "std         0.300653       3.040051       4.050044       2.640894   \n",
       "min         0.000000       0.408400     -15.043400       2.117100   \n",
       "25%         0.000000       8.453850      -4.740025       8.722475   \n",
       "50%         0.000000      10.524750      -1.608050      10.580000   \n",
       "75%         0.000000      12.758200       1.358625      12.516700   \n",
       "max         1.000000      20.315000      10.376800      19.353000   \n",
       "\n",
       "               var_3          var_4          var_5          var_6  \\\n",
       "count  200000.000000  200000.000000  200000.000000  200000.000000   \n",
       "mean        6.796529      11.078333      -5.065317       5.408949   \n",
       "std         2.043319       1.623150       7.863267       0.866607   \n",
       "min        -0.040200       5.074800     -32.562600       2.347300   \n",
       "25%         5.254075       9.883175     -11.200350       4.767700   \n",
       "50%         6.825000      11.108250      -4.833150       5.385100   \n",
       "75%         8.324100      12.261125       0.924800       6.003000   \n",
       "max        13.188300      16.671400      17.251600       8.447700   \n",
       "\n",
       "               var_7          var_8      ...              var_190  \\\n",
       "count  200000.000000  200000.000000      ...        200000.000000   \n",
       "mean       16.545850       0.284162      ...             3.234440   \n",
       "std         3.418076       3.332634      ...             4.559922   \n",
       "min         5.349700     -10.505500      ...           -14.093300   \n",
       "25%        13.943800      -2.317800      ...            -0.058825   \n",
       "50%        16.456800       0.393700      ...             3.203600   \n",
       "75%        19.102900       2.937900      ...             6.406200   \n",
       "max        27.691800      10.151300      ...            18.440900   \n",
       "\n",
       "             var_191        var_192        var_193        var_194  \\\n",
       "count  200000.000000  200000.000000  200000.000000  200000.000000   \n",
       "mean        7.438408       1.927839       3.331774      17.993784   \n",
       "std         3.023272       1.478423       3.992030       3.135162   \n",
       "min        -2.691700      -3.814500     -11.783400       8.694400   \n",
       "25%         5.157400       0.889775       0.584600      15.629800   \n",
       "50%         7.347750       1.901300       3.396350      17.957950   \n",
       "75%         9.512525       2.949500       6.205800      20.396525   \n",
       "max        16.716500       8.402400      18.281800      27.928800   \n",
       "\n",
       "             var_195        var_196        var_197        var_198  \\\n",
       "count  200000.000000  200000.000000  200000.000000  200000.000000   \n",
       "mean       -0.142088       2.303335       8.908158      15.870720   \n",
       "std         1.429372       5.454369       0.921625       3.010945   \n",
       "min        -5.261000     -14.209600       5.960600       6.299300   \n",
       "25%        -1.170700      -1.946925       8.252800      13.829700   \n",
       "50%        -0.172700       2.408900       8.888200      15.934050   \n",
       "75%         0.829600       6.556725       9.593300      18.064725   \n",
       "max         4.272900      18.321500      12.000400      26.079100   \n",
       "\n",
       "             var_199  \n",
       "count  200000.000000  \n",
       "mean       -3.326537  \n",
       "std        10.438015  \n",
       "min       -38.852800  \n",
       "25%       -11.208475  \n",
       "50%        -2.819550  \n",
       "75%         4.836800  \n",
       "max        28.500700  \n",
       "\n",
       "[8 rows x 201 columns]"
      ]
     },
     "execution_count": 5,
     "metadata": {},
     "output_type": "execute_result"
    }
   ],
   "source": [
    "train_df.describe()"
   ]
  },
  {
   "cell_type": "code",
   "execution_count": 6,
   "metadata": {},
   "outputs": [],
   "source": [
    "features = [c for c in train_df.columns if c not in ['ID_code', 'target']]\n",
    "target = train_df['target']\n",
    "param = {\n",
    "    'bagging_freq': 5,          'bagging_fraction': 0.38,   'boost_from_average':'false',   'boost': 'gbdt',\n",
    "    'feature_fraction': 0.045,   'learning_rate': 0.0105,     'max_depth': -1,                'metric':'auc',\n",
    "    'min_data_in_leaf': 80,     'min_sum_hessian_in_leaf': 10.0,'num_leaves': 13,           'num_threads': 8,\n",
    "    'tree_learner': 'serial',   'objective': 'binary',      'verbosity': 1\n",
    "}"
   ]
  },
  {
   "cell_type": "code",
   "execution_count": 7,
   "metadata": {},
   "outputs": [],
   "source": [
    "from sklearn.model_selection import StratifiedKFold\n",
    "folds = StratifiedKFold(n_splits = 3, shuffle = False, random_state = 44000)  #split = 12\n",
    "oof = np.zeros(len(train_df))\n",
    "predictions = np.zeros(len(test_df))"
   ]
  },
  {
   "cell_type": "code",
   "execution_count": 8,
   "metadata": {
    "scrolled": true
   },
   "outputs": [
    {
     "name": "stdout",
     "output_type": "stream",
     "text": [
      "Fold :1\n",
      "Training until validation scores don't improve for 1000 rounds.\n",
      "[1000]\ttraining's auc: 0.907343\tvalid_1's auc: 0.883443\n",
      "[2000]\ttraining's auc: 0.919281\tvalid_1's auc: 0.89092\n",
      "[3000]\ttraining's auc: 0.927248\tvalid_1's auc: 0.894543\n",
      "[4000]\ttraining's auc: 0.933367\tvalid_1's auc: 0.896366\n",
      "[5000]\ttraining's auc: 0.938884\tvalid_1's auc: 0.897476\n",
      "[6000]\ttraining's auc: 0.943735\tvalid_1's auc: 0.898016\n",
      "[7000]\ttraining's auc: 0.948279\tvalid_1's auc: 0.898232\n",
      "[8000]\ttraining's auc: 0.952616\tvalid_1's auc: 0.89832\n",
      "[9000]\ttraining's auc: 0.956711\tvalid_1's auc: 0.898291\n",
      "Early stopping, best iteration is:\n",
      "[8235]\ttraining's auc: 0.95358\tvalid_1's auc: 0.898349\n",
      "Fold :2\n",
      "Training until validation scores don't improve for 1000 rounds.\n",
      "[1000]\ttraining's auc: 0.906269\tvalid_1's auc: 0.883906\n",
      "[2000]\ttraining's auc: 0.918638\tvalid_1's auc: 0.892155\n",
      "[3000]\ttraining's auc: 0.926792\tvalid_1's auc: 0.895534\n",
      "[4000]\ttraining's auc: 0.933218\tvalid_1's auc: 0.897256\n",
      "[5000]\ttraining's auc: 0.938722\tvalid_1's auc: 0.898174\n",
      "[6000]\ttraining's auc: 0.943677\tvalid_1's auc: 0.898609\n",
      "[7000]\ttraining's auc: 0.94821\tvalid_1's auc: 0.898735\n",
      "Early stopping, best iteration is:\n",
      "[6625]\ttraining's auc: 0.946577\tvalid_1's auc: 0.898797\n",
      "Fold :3\n",
      "Training until validation scores don't improve for 1000 rounds.\n",
      "[1000]\ttraining's auc: 0.906094\tvalid_1's auc: 0.886142\n",
      "[2000]\ttraining's auc: 0.918023\tvalid_1's auc: 0.893342\n",
      "[3000]\ttraining's auc: 0.926179\tvalid_1's auc: 0.897131\n",
      "[4000]\ttraining's auc: 0.932512\tvalid_1's auc: 0.89906\n",
      "[5000]\ttraining's auc: 0.937983\tvalid_1's auc: 0.899903\n",
      "[6000]\ttraining's auc: 0.943013\tvalid_1's auc: 0.900243\n",
      "[7000]\ttraining's auc: 0.947793\tvalid_1's auc: 0.900341\n",
      "[8000]\ttraining's auc: 0.952064\tvalid_1's auc: 0.900526\n",
      "[9000]\ttraining's auc: 0.956073\tvalid_1's auc: 0.900595\n",
      "Early stopping, best iteration is:\n",
      "[8499]\ttraining's auc: 0.954125\tvalid_1's auc: 0.900624\n"
     ]
    },
    {
     "ename": "NameError",
     "evalue": "name 'roc_auc_score' is not defined",
     "output_type": "error",
     "traceback": [
      "\u001b[0;31m--------------------------------------------------------------------\u001b[0m",
      "\u001b[0;31mNameError\u001b[0m                          Traceback (most recent call last)",
      "\u001b[0;32m<ipython-input-8-215b022d01bd>\u001b[0m in \u001b[0;36m<module>\u001b[0;34m()\u001b[0m\n\u001b[1;32m      6\u001b[0m     \u001b[0moof\u001b[0m\u001b[0;34m[\u001b[0m\u001b[0mval_idx\u001b[0m\u001b[0;34m]\u001b[0m \u001b[0;34m=\u001b[0m \u001b[0mclf\u001b[0m\u001b[0;34m.\u001b[0m\u001b[0mpredict\u001b[0m\u001b[0;34m(\u001b[0m\u001b[0mtrain_df\u001b[0m\u001b[0;34m.\u001b[0m\u001b[0miloc\u001b[0m\u001b[0;34m[\u001b[0m\u001b[0mval_idx\u001b[0m\u001b[0;34m]\u001b[0m\u001b[0;34m[\u001b[0m\u001b[0mfeatures\u001b[0m\u001b[0;34m]\u001b[0m\u001b[0;34m,\u001b[0m \u001b[0mnum_iteration\u001b[0m \u001b[0;34m=\u001b[0m \u001b[0mclf\u001b[0m\u001b[0;34m.\u001b[0m\u001b[0mbest_iteration\u001b[0m\u001b[0;34m)\u001b[0m\u001b[0;34m\u001b[0m\u001b[0m\n\u001b[1;32m      7\u001b[0m     \u001b[0mpredictions\u001b[0m \u001b[0;34m+=\u001b[0m \u001b[0mclf\u001b[0m\u001b[0;34m.\u001b[0m\u001b[0mpredict\u001b[0m\u001b[0;34m(\u001b[0m\u001b[0mtest_df\u001b[0m\u001b[0;34m[\u001b[0m\u001b[0mfeatures\u001b[0m\u001b[0;34m]\u001b[0m\u001b[0;34m,\u001b[0m \u001b[0mnum_iteration\u001b[0m \u001b[0;34m=\u001b[0m \u001b[0mclf\u001b[0m\u001b[0;34m.\u001b[0m\u001b[0mbest_iteration\u001b[0m\u001b[0;34m)\u001b[0m \u001b[0;34m/\u001b[0m \u001b[0mfolds\u001b[0m\u001b[0;34m.\u001b[0m\u001b[0mn_splits\u001b[0m\u001b[0;34m\u001b[0m\u001b[0m\n\u001b[0;32m----> 8\u001b[0;31m \u001b[0msys\u001b[0m\u001b[0;34m.\u001b[0m\u001b[0mstdout\u001b[0m\u001b[0;34m.\u001b[0m\u001b[0mwrite\u001b[0m\u001b[0;34m(\u001b[0m\u001b[0;34m\"CV score: {:<8.5f}\"\u001b[0m\u001b[0;34m.\u001b[0m\u001b[0mformat\u001b[0m\u001b[0;34m(\u001b[0m\u001b[0mroc_auc_score\u001b[0m\u001b[0;34m(\u001b[0m\u001b[0mtarget\u001b[0m\u001b[0;34m,\u001b[0m \u001b[0moof\u001b[0m\u001b[0;34m)\u001b[0m\u001b[0;34m)\u001b[0m\u001b[0;34m)\u001b[0m\u001b[0;34m\u001b[0m\u001b[0m\n\u001b[0m\u001b[1;32m      9\u001b[0m \u001b[0mprint\u001b[0m\u001b[0;34m(\u001b[0m\u001b[0;34m\"CV score: {:<8.5f}\"\u001b[0m\u001b[0;34m.\u001b[0m\u001b[0mformat\u001b[0m\u001b[0;34m(\u001b[0m\u001b[0mroc_auc_score\u001b[0m\u001b[0;34m(\u001b[0m\u001b[0mtarget\u001b[0m\u001b[0;34m,\u001b[0m \u001b[0moof\u001b[0m\u001b[0;34m)\u001b[0m\u001b[0;34m)\u001b[0m\u001b[0;34m)\u001b[0m\u001b[0;34m\u001b[0m\u001b[0m\n",
      "\u001b[0;31mNameError\u001b[0m: name 'roc_auc_score' is not defined"
     ]
    }
   ],
   "source": [
    "for fold_, (trn_idx, val_idx) in enumerate(folds.split(train_df.values, target.values)):\n",
    "    print(\"Fold :{}\".format(fold_ + 1))\n",
    "    trn_data = lgb.Dataset(train_df.iloc[trn_idx][features], label = target.iloc[trn_idx])\n",
    "    val_data = lgb.Dataset(train_df.iloc[val_idx][features], label = target.iloc[val_idx])\n",
    "    clf = lgb.train(param, trn_data, 100000, valid_sets = [trn_data, val_data], verbose_eval = 1000, early_stopping_rounds = 1000)\n",
    "    oof[val_idx] = clf.predict(train_df.iloc[val_idx][features], num_iteration = clf.best_iteration)\n",
    "    predictions += clf.predict(test_df[features], num_iteration = clf.best_iteration) / folds.n_splits"
   ]
  },
  {
   "cell_type": "code",
   "execution_count": 11,
   "metadata": {},
   "outputs": [
    {
     "name": "stdout",
     "output_type": "stream",
     "text": [
      "CV score: 0.89921 CV score: 0.89921 \n"
     ]
    }
   ],
   "source": [
    "sys.stdout.write(\"CV score: {:<8.5f}\".format(roc_auc_score(target, oof)))\n",
    "print(\"CV score: {:<8.5f}\".format(roc_auc_score(target, oof)))"
   ]
  },
  {
   "cell_type": "code",
   "execution_count": null,
   "metadata": {},
   "outputs": [],
   "source": [
    "#sub = pd.DataFrame({\"ID_code\": test_df.ID_code.values})\n",
    "#sub[\"target\"] = predictions\n",
    "#sub.to_csv('submission.csv', index=False)"
   ]
  },
  {
   "cell_type": "code",
   "execution_count": 12,
   "metadata": {},
   "outputs": [],
   "source": [
    "from sklearn.model_selection import KFold\n",
    "from sklearn.metrics import roc_auc_score, confusion_matrix\n",
    "\n",
    "from sklearn.linear_model import LogisticRegression\n",
    "from sklearn.tree import DecisionTreeClassifier\n",
    "from sklearn.ensemble import RandomForestClassifier"
   ]
  },
  {
   "cell_type": "code",
   "execution_count": 16,
   "metadata": {},
   "outputs": [],
   "source": [
    "X_train, X_test, y_train, y_test = train_test_split(train_df[columns_train[2:]], \n",
    "                                                    train_df[columns_train[1]], \n",
    "                                                    test_size = 0.3, random_state = 2019)"
   ]
  },
  {
   "cell_type": "code",
   "execution_count": 17,
   "metadata": {},
   "outputs": [
    {
     "name": "stdout",
     "output_type": "stream",
     "text": [
      "(140000, 200) (60000, 200)\n"
     ]
    }
   ],
   "source": [
    "print(X_train.shape, X_test.shape)"
   ]
  },
  {
   "cell_type": "code",
   "execution_count": 18,
   "metadata": {},
   "outputs": [
    {
     "data": {
      "text/plain": [
       "LogisticRegression(C=0.001, class_weight='balanced', dual=False,\n",
       "          fit_intercept=True, intercept_scaling=1, max_iter=100,\n",
       "          multi_class='ovr', n_jobs=1, penalty='l2', random_state=None,\n",
       "          solver='liblinear', tol=0.0001, verbose=0, warm_start=False)"
      ]
     },
     "execution_count": 18,
     "metadata": {},
     "output_type": "execute_result"
    }
   ],
   "source": [
    "# work with X_train, X_test, y_train, y_test\n",
    "# Create an object of Logistic Regression with parameters C and class_weight\n",
    "logist = LogisticRegression(C = 0.001, class_weight = 'balanced')\n",
    "\n",
    "# Fit the training data on this object\n",
    "logist.fit(X_train, y_train)"
   ]
  },
  {
   "cell_type": "code",
   "execution_count": 19,
   "metadata": {},
   "outputs": [],
   "source": [
    "# Predict the Target for validation dataset \n",
    "logist_pred = logist.predict_proba(X_test)[:,1]"
   ]
  },
  {
   "cell_type": "code",
   "execution_count": 20,
   "metadata": {},
   "outputs": [],
   "source": [
    "def performance(Y_test, logist_pred):\n",
    "    logist_pred_var = [0 if i < 0.5 else 1 for i in logist_pred]\n",
    "    print('Confusion Matrix:')\n",
    "    print(confusion_matrix(Y_test, logist_pred_var)) \n",
    "      \n",
    "    #print(classification_report(Y_test, logist_pred)) \n",
    "\n",
    "    fpr, tpr, thresholds = roc_curve(Y_test, logist_pred, pos_label = 1)\n",
    "    print('AUC:')\n",
    "    print(auc(fpr, tpr))"
   ]
  },
  {
   "cell_type": "code",
   "execution_count": 21,
   "metadata": {},
   "outputs": [
    {
     "name": "stdout",
     "output_type": "stream",
     "text": [
      "Confusion Matrix:\n",
      "[[42214 11737]\n",
      " [ 1404  4645]]\n",
      "AUC:\n",
      "0.8541974369026266\n"
     ]
    }
   ],
   "source": [
    "performance(y_test, logist_pred)"
   ]
  },
  {
   "cell_type": "code",
   "execution_count": 22,
   "metadata": {},
   "outputs": [
    {
     "data": {
      "text/plain": [
       "DecisionTreeClassifier(class_weight='balanced', criterion='gini',\n",
       "            max_depth=None, max_features=0.7, max_leaf_nodes=None,\n",
       "            min_impurity_decrease=0.0, min_impurity_split=None,\n",
       "            min_samples_leaf=80, min_samples_split=2,\n",
       "            min_weight_fraction_leaf=0.0, presort=False, random_state=2019,\n",
       "            splitter='best')"
      ]
     },
     "execution_count": 22,
     "metadata": {},
     "output_type": "execute_result"
    }
   ],
   "source": [
    "# Create Decision Tree Classifier object with few parameters\n",
    "tree_clf = DecisionTreeClassifier(class_weight = 'balanced', random_state = 2019, \n",
    "                                  max_features = 0.7, min_samples_leaf = 80)\n",
    "\n",
    "# Fit the object on training data\n",
    "tree_clf.fit(X_train, y_train)"
   ]
  },
  {
   "cell_type": "code",
   "execution_count": 23,
   "metadata": {},
   "outputs": [
    {
     "name": "stdout",
     "output_type": "stream",
     "text": [
      "Confusion Matrix:\n",
      "[[35314 18637]\n",
      " [ 2629  3420]]\n",
      "AUC:\n",
      "0.6514727493199708\n"
     ]
    }
   ],
   "source": [
    "# Predict for validation set and check the performance\n",
    "tree_preds = tree_clf.predict_proba(X_test)[:, 1]\n",
    "performance(y_test, tree_preds)"
   ]
  },
  {
   "cell_type": "code",
   "execution_count": 26,
   "metadata": {},
   "outputs": [
    {
     "name": "stderr",
     "output_type": "stream",
     "text": [
      "[Parallel(n_jobs=1)]: Done  25 out of  25 | elapsed:  9.5min finished\n"
     ]
    },
    {
     "data": {
      "text/plain": [
       "RandomForestClassifier(bootstrap=True, class_weight='balanced',\n",
       "            criterion='gini', max_depth=None, max_features=0.5,\n",
       "            max_leaf_nodes=None, min_impurity_decrease=0.0,\n",
       "            min_impurity_split=None, min_samples_leaf=25,\n",
       "            min_samples_split=2, min_weight_fraction_leaf=0.0,\n",
       "            n_estimators=25, n_jobs=1, oob_score=False, random_state=2019,\n",
       "            verbose=1, warm_start=False)"
      ]
     },
     "execution_count": 26,
     "metadata": {},
     "output_type": "execute_result"
    }
   ],
   "source": [
    "# Create random Forest Object using the mentioned parameters\n",
    "random_forest = RandomForestClassifier(n_estimators = 25, random_state = 2019, verbose = 1, #n_estimators = 100\n",
    "                                      class_weight = 'balanced', max_features = 0.5, \n",
    "                                       min_samples_leaf = 25) # min_samples_leaf = 100\n",
    "\n",
    "# Fit the object on training set \n",
    "random_forest.fit(X_train, y_train)"
   ]
  },
  {
   "cell_type": "code",
   "execution_count": 27,
   "metadata": {},
   "outputs": [
    {
     "name": "stdout",
     "output_type": "stream",
     "text": [
      "Confusion Matrix:\n",
      "[[51972  1979]\n",
      " [ 4749  1300]]\n",
      "AUC:\n",
      "0.7754952626738174\n"
     ]
    },
    {
     "name": "stderr",
     "output_type": "stream",
     "text": [
      "[Parallel(n_jobs=1)]: Done  25 out of  25 | elapsed:    0.5s finished\n"
     ]
    }
   ],
   "source": [
    "# Predict the validation set target and check the performance\n",
    "forest_preds = random_forest.predict_proba(X_test)[:, 1]\n",
    "performance(y_test, forest_preds)"
   ]
  },
  {
   "cell_type": "code",
   "execution_count": 28,
   "metadata": {},
   "outputs": [
    {
     "name": "stderr",
     "output_type": "stream",
     "text": [
      "Using TensorFlow backend.\n"
     ]
    }
   ],
   "source": [
    "from keras.utils.data_utils import get_file\n",
    "from keras.layers.embeddings import Embedding\n",
    "from keras.layers.core import Dense, Dropout, RepeatVector, Lambda, Permute, Activation, Masking, Reshape\n",
    "from keras.layers import recurrent, Input, TimeDistributed, add, concatenate, Multiply, Bidirectional\n",
    "from keras.layers.recurrent import LSTM, GRU, SimpleRNN\n",
    "from keras.models import Sequential, Model\n",
    "from keras.preprocessing.sequence import pad_sequences\n",
    "from keras.callbacks import ModelCheckpoint, Callback, LearningRateScheduler\n",
    "from keras.optimizers import SGD, Adam\n",
    "from keras.layers.normalization import BatchNormalization\n",
    "\n",
    "from keras.activations import softmax\n",
    "from keras.metrics import categorical_accuracy\n",
    "import keras.backend as K\n",
    "from keras.regularizers import l2\n",
    "from keras import initializers\n",
    "#from keras.utils.visualize_util import plot\n",
    "from keras.layers.core import Layer\n",
    "\n",
    "from keras.activations import softmax, tanh, sigmoid, hard_sigmoid, relu"
   ]
  },
  {
   "cell_type": "code",
   "execution_count": 29,
   "metadata": {},
   "outputs": [],
   "source": [
    "def create_models(in_shape):\n",
    "    adam = Adam(lr = 0.0003)  # Best learning found in previous exp\n",
    "    input_layer = Input(shape = (in_shape,), name = 'input_layer')\n",
    "    dense = Dense(100, activation = 'relu')(input_layer)\n",
    "    #dense = Dropout(0.35)(dense)\n",
    "    dense = Dense(50, activation = 'relu')(dense)\n",
    "    dense = Dropout(0.30)(dense)\n",
    "    output = Dense(2, activation = 'softmax')(dense)\n",
    "    model = Model(inputs = input_layer, outputs = output)\n",
    "    model.compile(loss = 'categorical_crossentropy', optimizer = 'adam', metrics = ['accuracy'])\n",
    "    #model.compile(loss = 'binary_crossentropy', optimizer = 'adam', metrics = ['accuracy'])\n",
    "\n",
    "    #tf_thetas = tf.get_variable(\"tf_thetas\",\n",
    "    #                        initializer=thetas)\n",
    "\n",
    "    #sample_output = Lambda(lambda x: \n",
    "    #               gumbel_softmax(x, temperature,  hard = hard_val), \n",
    "    #               output_shape = (2,))(output)\n",
    "    #cond_prob = Lambda(lambda x: tf.einsum('ai,ij->aj', x[0], tf_thetas*1.),\n",
    "    #          output_shape = (2, ))([sample_output])\n",
    "\n",
    "    #model_ask = Model(inputs = input_layer, outputs = cond_prob)\n",
    "    #model_ask.compile(loss = 'categorical_crossentropy', \n",
    "    #              optimizer = adam, metrics = ['accuracy'])\n",
    "    \n",
    "    return model#, model_ask"
   ]
  },
  {
   "cell_type": "code",
   "execution_count": 30,
   "metadata": {},
   "outputs": [],
   "source": [
    "random_idx = np.random.choice(len(X_train), len(X_train), replace = False)\n",
    "\n",
    "X_train_nn = X_train.iloc[random_idx]\n",
    "y_train_nn = y_train.iloc[random_idx]"
   ]
  },
  {
   "cell_type": "code",
   "execution_count": 31,
   "metadata": {},
   "outputs": [],
   "source": [
    "K.clear_session()\n",
    "model = create_models(X_train.shape[1])"
   ]
  },
  {
   "cell_type": "code",
   "execution_count": 32,
   "metadata": {},
   "outputs": [],
   "source": [
    "from keras.utils import to_categorical\n",
    "y_binary_train = to_categorical(y_train)\n",
    "y_binary_test = to_categorical(y_test)"
   ]
  },
  {
   "cell_type": "code",
   "execution_count": 33,
   "metadata": {
    "scrolled": true
   },
   "outputs": [
    {
     "name": "stdout",
     "output_type": "stream",
     "text": [
      "Train on 140000 samples, validate on 60000 samples\n",
      "Epoch 1/50\n",
      "140000/140000 [==============================] - 13s 94us/step - loss: 0.3224 - acc: 0.9012 - val_loss: 0.2596 - val_acc: 0.9029\n",
      "Epoch 2/50\n",
      "140000/140000 [==============================] - 12s 89us/step - loss: 0.2621 - acc: 0.9061 - val_loss: 0.2552 - val_acc: 0.9040\n",
      "Epoch 3/50\n",
      "140000/140000 [==============================] - 12s 89us/step - loss: 0.2567 - acc: 0.9077 - val_loss: 0.2485 - val_acc: 0.9094\n",
      "Epoch 4/50\n",
      "140000/140000 [==============================] - 14s 97us/step - loss: 0.2538 - acc: 0.9079 - val_loss: 0.2484 - val_acc: 0.9100\n",
      "Epoch 5/50\n",
      "140000/140000 [==============================] - 14s 101us/step - loss: 0.2527 - acc: 0.9085 - val_loss: 0.2458 - val_acc: 0.9104\n",
      "Epoch 6/50\n",
      "140000/140000 [==============================] - 13s 94us/step - loss: 0.2502 - acc: 0.9089 - val_loss: 0.2456 - val_acc: 0.9099\n",
      "Epoch 7/50\n",
      "140000/140000 [==============================] - 13s 94us/step - loss: 0.2500 - acc: 0.9088 - val_loss: 0.2437 - val_acc: 0.9105\n",
      "Epoch 8/50\n",
      "140000/140000 [==============================] - 12s 89us/step - loss: 0.2484 - acc: 0.9093 - val_loss: 0.2488 - val_acc: 0.9104\n",
      "Epoch 9/50\n",
      "140000/140000 [==============================] - 13s 89us/step - loss: 0.2478 - acc: 0.9093 - val_loss: 0.2705 - val_acc: 0.9054\n",
      "Epoch 10/50\n",
      "140000/140000 [==============================] - 13s 94us/step - loss: 0.2480 - acc: 0.9092 - val_loss: 0.2488 - val_acc: 0.9098\n",
      "Epoch 11/50\n",
      "140000/140000 [==============================] - 13s 92us/step - loss: 0.2465 - acc: 0.9097 - val_loss: 0.2440 - val_acc: 0.9106\n",
      "Epoch 12/50\n",
      "140000/140000 [==============================] - 12s 89us/step - loss: 0.2470 - acc: 0.9097 - val_loss: 0.2437 - val_acc: 0.9105\n",
      "Epoch 13/50\n",
      "140000/140000 [==============================] - 13s 89us/step - loss: 0.2467 - acc: 0.9096 - val_loss: 0.2452 - val_acc: 0.9112\n",
      "Epoch 14/50\n",
      "140000/140000 [==============================] - 13s 89us/step - loss: 0.2461 - acc: 0.9098 - val_loss: 0.2658 - val_acc: 0.8995\n",
      "Epoch 15/50\n",
      "140000/140000 [==============================] - 13s 89us/step - loss: 0.2455 - acc: 0.9100 - val_loss: 0.2505 - val_acc: 0.9085\n",
      "Epoch 16/50\n",
      "140000/140000 [==============================] - 12s 89us/step - loss: 0.2454 - acc: 0.9098 - val_loss: 0.2444 - val_acc: 0.9098\n",
      "Epoch 17/50\n",
      "140000/140000 [==============================] - 12s 89us/step - loss: 0.2450 - acc: 0.9103 - val_loss: 0.2434 - val_acc: 0.9103\n",
      "Epoch 18/50\n",
      "140000/140000 [==============================] - 12s 89us/step - loss: 0.2451 - acc: 0.9102 - val_loss: 0.2440 - val_acc: 0.9106\n",
      "Epoch 19/50\n",
      "140000/140000 [==============================] - 12s 89us/step - loss: 0.2456 - acc: 0.9097 - val_loss: 0.2464 - val_acc: 0.9102\n",
      "Epoch 20/50\n",
      "140000/140000 [==============================] - 13s 92us/step - loss: 0.2444 - acc: 0.9106 - val_loss: 0.2499 - val_acc: 0.9076\n",
      "Epoch 21/50\n",
      "140000/140000 [==============================] - 13s 89us/step - loss: 0.2445 - acc: 0.9106 - val_loss: 0.2448 - val_acc: 0.9105\n",
      "Epoch 22/50\n",
      "140000/140000 [==============================] - 13s 90us/step - loss: 0.2445 - acc: 0.9102 - val_loss: 0.2432 - val_acc: 0.9101\n",
      "Epoch 23/50\n",
      "140000/140000 [==============================] - 13s 90us/step - loss: 0.2440 - acc: 0.9107 - val_loss: 0.2466 - val_acc: 0.9095\n",
      "Epoch 24/50\n",
      "140000/140000 [==============================] - 13s 89us/step - loss: 0.2438 - acc: 0.9108 - val_loss: 0.2461 - val_acc: 0.9102\n",
      "Epoch 25/50\n",
      "140000/140000 [==============================] - 13s 92us/step - loss: 0.2438 - acc: 0.9105 - val_loss: 0.2485 - val_acc: 0.9092\n",
      "Epoch 26/50\n",
      "140000/140000 [==============================] - 14s 99us/step - loss: 0.2434 - acc: 0.9109 - val_loss: 0.2445 - val_acc: 0.9104\n",
      "Epoch 27/50\n",
      "140000/140000 [==============================] - 13s 89us/step - loss: 0.2433 - acc: 0.9109 - val_loss: 0.2442 - val_acc: 0.9101\n",
      "Epoch 28/50\n",
      "140000/140000 [==============================] - 13s 90us/step - loss: 0.2428 - acc: 0.9108 - val_loss: 0.2556 - val_acc: 0.9098\n",
      "Epoch 29/50\n",
      "140000/140000 [==============================] - 13s 90us/step - loss: 0.2430 - acc: 0.9106 - val_loss: 0.2428 - val_acc: 0.9112\n",
      "Epoch 30/50\n",
      "140000/140000 [==============================] - 13s 90us/step - loss: 0.2425 - acc: 0.9108 - val_loss: 0.2443 - val_acc: 0.9094\n",
      "Epoch 31/50\n",
      "140000/140000 [==============================] - 13s 89us/step - loss: 0.2425 - acc: 0.9111 - val_loss: 0.2453 - val_acc: 0.9090\n",
      "Epoch 32/50\n",
      "140000/140000 [==============================] - 13s 89us/step - loss: 0.2425 - acc: 0.9111 - val_loss: 0.2410 - val_acc: 0.9112\n",
      "Epoch 33/50\n",
      "140000/140000 [==============================] - 12s 89us/step - loss: 0.2419 - acc: 0.9106 - val_loss: 0.2442 - val_acc: 0.9092\n",
      "Epoch 34/50\n",
      "140000/140000 [==============================] - 13s 89us/step - loss: 0.2424 - acc: 0.9113 - val_loss: 0.2428 - val_acc: 0.9106\n",
      "Epoch 35/50\n",
      "140000/140000 [==============================] - 13s 90us/step - loss: 0.2424 - acc: 0.9109 - val_loss: 0.2416 - val_acc: 0.9108\n",
      "Epoch 36/50\n",
      "140000/140000 [==============================] - 13s 90us/step - loss: 0.2418 - acc: 0.9107 - val_loss: 0.2457 - val_acc: 0.9097\n",
      "Epoch 37/50\n",
      "140000/140000 [==============================] - 12s 89us/step - loss: 0.2419 - acc: 0.9108 - val_loss: 0.2408 - val_acc: 0.9111\n",
      "Epoch 38/50\n",
      "140000/140000 [==============================] - 13s 89us/step - loss: 0.2414 - acc: 0.9109 - val_loss: 0.2531 - val_acc: 0.9056\n",
      "Epoch 39/50\n",
      "140000/140000 [==============================] - 13s 91us/step - loss: 0.2418 - acc: 0.9106 - val_loss: 0.2419 - val_acc: 0.9112\n",
      "Epoch 40/50\n",
      "140000/140000 [==============================] - 13s 90us/step - loss: 0.2414 - acc: 0.9111 - val_loss: 0.2424 - val_acc: 0.9107\n",
      "Epoch 41/50\n",
      "140000/140000 [==============================] - 13s 90us/step - loss: 0.2415 - acc: 0.9111 - val_loss: 0.2421 - val_acc: 0.9099\n",
      "Epoch 42/50\n",
      "140000/140000 [==============================] - 13s 91us/step - loss: 0.2412 - acc: 0.9109 - val_loss: 0.2421 - val_acc: 0.9101\n",
      "Epoch 43/50\n",
      "140000/140000 [==============================] - 13s 90us/step - loss: 0.2407 - acc: 0.9115 - val_loss: 0.2466 - val_acc: 0.9083\n",
      "Epoch 44/50\n",
      "140000/140000 [==============================] - 13s 90us/step - loss: 0.2405 - acc: 0.9117 - val_loss: 0.2456 - val_acc: 0.9113\n",
      "Epoch 45/50\n",
      "140000/140000 [==============================] - 13s 90us/step - loss: 0.2411 - acc: 0.9116 - val_loss: 0.2419 - val_acc: 0.9110\n",
      "Epoch 46/50\n",
      "140000/140000 [==============================] - 13s 90us/step - loss: 0.2413 - acc: 0.9109 - val_loss: 0.2438 - val_acc: 0.9106\n",
      "Epoch 47/50\n",
      "140000/140000 [==============================] - 13s 91us/step - loss: 0.2407 - acc: 0.9109 - val_loss: 0.2416 - val_acc: 0.9121\n",
      "Epoch 48/50\n",
      "140000/140000 [==============================] - 13s 90us/step - loss: 0.2407 - acc: 0.9113 - val_loss: 0.2414 - val_acc: 0.9113\n",
      "Epoch 49/50\n",
      "140000/140000 [==============================] - 13s 91us/step - loss: 0.2405 - acc: 0.9113 - val_loss: 0.2427 - val_acc: 0.9111\n",
      "Epoch 50/50\n",
      "140000/140000 [==============================] - 13s 90us/step - loss: 0.2404 - acc: 0.9114 - val_loss: 0.2413 - val_acc: 0.9113\n"
     ]
    }
   ],
   "source": [
    "# Make severl models, computes and average them. Consider Kfold, SVM, NN, Logisteic Regression, Light GBM and several configurations of them\n",
    "h = model.fit(X_train, y_binary_train, \n",
    "              epochs = 50, validation_data = (X_test, y_binary_test),\n",
    "              batch_size = 25,\n",
    "              verbose = 1)"
   ]
  },
  {
   "cell_type": "code",
   "execution_count": 34,
   "metadata": {},
   "outputs": [],
   "source": [
    "y_predicted_nn = model.predict(X_test)"
   ]
  },
  {
   "cell_type": "code",
   "execution_count": 35,
   "metadata": {},
   "outputs": [],
   "source": [
    "temp_nn_predic = []\n",
    "for i in range(len(y_predicted_nn)):\n",
    "    if y_predicted_nn[i,0] > y_predicted_nn[i,1]:\n",
    "        temp_nn_predic.append(0)\n",
    "    else:\n",
    "        temp_nn_predic.append(1)"
   ]
  },
  {
   "cell_type": "code",
   "execution_count": 36,
   "metadata": {},
   "outputs": [
    {
     "data": {
      "image/png": "[encoded data removed]",
      "text/plain": [
       "<Figure size 432x288 with 1 Axes>"
      ]
     },
     "metadata": {},
     "output_type": "display_data"
    }
   ],
   "source": [
    "# There is no gain with more layers!\n",
    "fpr_nn, tpr_nn, threshold_nn = roc_curve(y_test, temp_nn_predic)\n",
    "roc_auc_nn = auc(fpr_nn, tpr_nn)\n",
    "\n",
    "plt.title('Receiver Operating Characteristic')\n",
    "plt.plot(fpr_nn, tpr_nn, 'b', label = 'AUC = %0.2f' % roc_auc_nn)\n",
    "plt.legend(loc = 'lower right')\n",
    "plt.plot([0, 1], [0, 1],'r--')\n",
    "plt.xlim([0, 1])\n",
    "plt.ylim([0, 1])\n",
    "plt.ylabel('True Positive Rate')\n",
    "plt.xlabel('False Positive Rate')\n",
    "plt.show()"
   ]
  },
  {
   "cell_type": "code",
   "execution_count": null,
   "metadata": {},
   "outputs": [],
   "source": [
    "#TODO: run several configurations for each model, then combine"
   ]
  }
 ],
 "metadata": {
  "kernelspec": {
   "display_name": "Python 3",
   "language": "python",
   "name": "python3"
  },
  "language_info": {
   "codemirror_mode": {
    "name": "ipython",
    "version": 3
   },
   "file_extension": ".py",
   "mimetype": "text/x-python",
   "name": "python",
   "nbconvert_exporter": "python",
   "pygments_lexer": "ipython3",
   "version": "3.6.5"
  }
 },
 "nbformat": 4,
 "nbformat_minor": 2
}
