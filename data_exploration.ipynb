{
 "cells": [
  {
   "cell_type": "code",
   "execution_count": 1,
   "metadata": {},
   "outputs": [],
   "source": [
    "import pandas as pd\n",
    "from math import ceil\n",
    "import numpy as np\n",
    "import pydot as pt\n",
    "import datetime as dt\n",
    "import matplotlib.pyplot as plt\n",
    "from sklearn.preprocessing import MinMaxScaler\n",
    "%matplotlib inline"
   ]
  },
  {
   "cell_type": "code",
   "execution_count": 2,
   "metadata": {},
   "outputs": [],
   "source": [
    "from sklearn.model_selection import train_test_split\n",
    "from sklearn.tree import ExtraTreeClassifier\n",
    "from sklearn.svm import LinearSVC\n",
    "from sklearn.preprocessing import LabelEncoder\n",
    "from sklearn.metrics import classification_report, roc_curve, auc, roc_auc_score\n",
    "\n",
    "import lightgbm as lgb\n",
    "import os\n",
    "#print(os.listdir(\"../input\"))\n",
    "import sys"
   ]
  },
  {
   "cell_type": "code",
   "execution_count": 3,
   "metadata": {},
   "outputs": [],
   "source": [
    "train_df = pd.read_csv('train.csv', low_memory = False)\n",
    "test_df = pd.read_csv('test.csv')\n",
    "\n",
    "train_df = train_df.drop('ID_code', axis = 1)\n",
    "test_df = test_df.drop('ID_code', axis = 1)\n",
    "\n",
    "train_df = train_df.apply(pd.to_numeric)\n",
    "test_df = test_df.apply(pd.to_numeric)"
   ]
  },
  {
   "cell_type": "code",
   "execution_count": 4,
   "metadata": {},
   "outputs": [
    {
     "data": {
      "text/plain": [
       "0    179902\n",
       "1     20098\n",
       "Name: target, dtype: int64"
      ]
     },
     "execution_count": 4,
     "metadata": {},
     "output_type": "execute_result"
    }
   ],
   "source": [
    "train_df.target.value_counts()"
   ]
  },
  {
   "cell_type": "code",
   "execution_count": 5,
   "metadata": {},
   "outputs": [
    {
     "data": {
      "text/html": [
       "<div>\n",
       "<style scoped>\n",
       "    .dataframe tbody tr th:only-of-type {\n",
       "        vertical-align: middle;\n",
       "    }\n",
       "\n",
       "    .dataframe tbody tr th {\n",
       "        vertical-align: top;\n",
       "    }\n",
       "\n",
       "    .dataframe thead th {\n",
       "        text-align: right;\n",
       "    }\n",
       "</style>\n",
       "<table border=\"1\" class=\"dataframe\">\n",
       "  <thead>\n",
       "    <tr style=\"text-align: right;\">\n",
       "      <th></th>\n",
       "      <th>target</th>\n",
       "      <th>var_0</th>\n",
       "      <th>var_1</th>\n",
       "      <th>var_2</th>\n",
       "      <th>var_3</th>\n",
       "      <th>var_4</th>\n",
       "      <th>var_5</th>\n",
       "      <th>var_6</th>\n",
       "      <th>var_7</th>\n",
       "      <th>var_8</th>\n",
       "      <th>...</th>\n",
       "      <th>var_190</th>\n",
       "      <th>var_191</th>\n",
       "      <th>var_192</th>\n",
       "      <th>var_193</th>\n",
       "      <th>var_194</th>\n",
       "      <th>var_195</th>\n",
       "      <th>var_196</th>\n",
       "      <th>var_197</th>\n",
       "      <th>var_198</th>\n",
       "      <th>var_199</th>\n",
       "    </tr>\n",
       "  </thead>\n",
       "  <tbody>\n",
       "    <tr>\n",
       "      <th>count</th>\n",
       "      <td>200000.000000</td>\n",
       "      <td>200000.000000</td>\n",
       "      <td>200000.000000</td>\n",
       "      <td>200000.000000</td>\n",
       "      <td>200000.000000</td>\n",
       "      <td>200000.000000</td>\n",
       "      <td>200000.000000</td>\n",
       "      <td>200000.000000</td>\n",
       "      <td>200000.000000</td>\n",
       "      <td>200000.000000</td>\n",
       "      <td>...</td>\n",
       "      <td>200000.000000</td>\n",
       "      <td>200000.000000</td>\n",
       "      <td>200000.000000</td>\n",
       "      <td>200000.000000</td>\n",
       "      <td>200000.000000</td>\n",
       "      <td>200000.000000</td>\n",
       "      <td>200000.000000</td>\n",
       "      <td>200000.000000</td>\n",
       "      <td>200000.000000</td>\n",
       "      <td>200000.000000</td>\n",
       "    </tr>\n",
       "    <tr>\n",
       "      <th>mean</th>\n",
       "      <td>0.100490</td>\n",
       "      <td>10.679914</td>\n",
       "      <td>-1.627622</td>\n",
       "      <td>10.715192</td>\n",
       "      <td>6.796529</td>\n",
       "      <td>11.078333</td>\n",
       "      <td>-5.065317</td>\n",
       "      <td>5.408949</td>\n",
       "      <td>16.545850</td>\n",
       "      <td>0.284162</td>\n",
       "      <td>...</td>\n",
       "      <td>3.234440</td>\n",
       "      <td>7.438408</td>\n",
       "      <td>1.927839</td>\n",
       "      <td>3.331774</td>\n",
       "      <td>17.993784</td>\n",
       "      <td>-0.142088</td>\n",
       "      <td>2.303335</td>\n",
       "      <td>8.908158</td>\n",
       "      <td>15.870720</td>\n",
       "      <td>-3.326537</td>\n",
       "    </tr>\n",
       "    <tr>\n",
       "      <th>std</th>\n",
       "      <td>0.300653</td>\n",
       "      <td>3.040051</td>\n",
       "      <td>4.050044</td>\n",
       "      <td>2.640894</td>\n",
       "      <td>2.043319</td>\n",
       "      <td>1.623150</td>\n",
       "      <td>7.863267</td>\n",
       "      <td>0.866607</td>\n",
       "      <td>3.418076</td>\n",
       "      <td>3.332634</td>\n",
       "      <td>...</td>\n",
       "      <td>4.559922</td>\n",
       "      <td>3.023272</td>\n",
       "      <td>1.478423</td>\n",
       "      <td>3.992030</td>\n",
       "      <td>3.135162</td>\n",
       "      <td>1.429372</td>\n",
       "      <td>5.454369</td>\n",
       "      <td>0.921625</td>\n",
       "      <td>3.010945</td>\n",
       "      <td>10.438015</td>\n",
       "    </tr>\n",
       "    <tr>\n",
       "      <th>min</th>\n",
       "      <td>0.000000</td>\n",
       "      <td>0.408400</td>\n",
       "      <td>-15.043400</td>\n",
       "      <td>2.117100</td>\n",
       "      <td>-0.040200</td>\n",
       "      <td>5.074800</td>\n",
       "      <td>-32.562600</td>\n",
       "      <td>2.347300</td>\n",
       "      <td>5.349700</td>\n",
       "      <td>-10.505500</td>\n",
       "      <td>...</td>\n",
       "      <td>-14.093300</td>\n",
       "      <td>-2.691700</td>\n",
       "      <td>-3.814500</td>\n",
       "      <td>-11.783400</td>\n",
       "      <td>8.694400</td>\n",
       "      <td>-5.261000</td>\n",
       "      <td>-14.209600</td>\n",
       "      <td>5.960600</td>\n",
       "      <td>6.299300</td>\n",
       "      <td>-38.852800</td>\n",
       "    </tr>\n",
       "    <tr>\n",
       "      <th>25%</th>\n",
       "      <td>0.000000</td>\n",
       "      <td>8.453850</td>\n",
       "      <td>-4.740025</td>\n",
       "      <td>8.722475</td>\n",
       "      <td>5.254075</td>\n",
       "      <td>9.883175</td>\n",
       "      <td>-11.200350</td>\n",
       "      <td>4.767700</td>\n",
       "      <td>13.943800</td>\n",
       "      <td>-2.317800</td>\n",
       "      <td>...</td>\n",
       "      <td>-0.058825</td>\n",
       "      <td>5.157400</td>\n",
       "      <td>0.889775</td>\n",
       "      <td>0.584600</td>\n",
       "      <td>15.629800</td>\n",
       "      <td>-1.170700</td>\n",
       "      <td>-1.946925</td>\n",
       "      <td>8.252800</td>\n",
       "      <td>13.829700</td>\n",
       "      <td>-11.208475</td>\n",
       "    </tr>\n",
       "    <tr>\n",
       "      <th>50%</th>\n",
       "      <td>0.000000</td>\n",
       "      <td>10.524750</td>\n",
       "      <td>-1.608050</td>\n",
       "      <td>10.580000</td>\n",
       "      <td>6.825000</td>\n",
       "      <td>11.108250</td>\n",
       "      <td>-4.833150</td>\n",
       "      <td>5.385100</td>\n",
       "      <td>16.456800</td>\n",
       "      <td>0.393700</td>\n",
       "      <td>...</td>\n",
       "      <td>3.203600</td>\n",
       "      <td>7.347750</td>\n",
       "      <td>1.901300</td>\n",
       "      <td>3.396350</td>\n",
       "      <td>17.957950</td>\n",
       "      <td>-0.172700</td>\n",
       "      <td>2.408900</td>\n",
       "      <td>8.888200</td>\n",
       "      <td>15.934050</td>\n",
       "      <td>-2.819550</td>\n",
       "    </tr>\n",
       "    <tr>\n",
       "      <th>75%</th>\n",
       "      <td>0.000000</td>\n",
       "      <td>12.758200</td>\n",
       "      <td>1.358625</td>\n",
       "      <td>12.516700</td>\n",
       "      <td>8.324100</td>\n",
       "      <td>12.261125</td>\n",
       "      <td>0.924800</td>\n",
       "      <td>6.003000</td>\n",
       "      <td>19.102900</td>\n",
       "      <td>2.937900</td>\n",
       "      <td>...</td>\n",
       "      <td>6.406200</td>\n",
       "      <td>9.512525</td>\n",
       "      <td>2.949500</td>\n",
       "      <td>6.205800</td>\n",
       "      <td>20.396525</td>\n",
       "      <td>0.829600</td>\n",
       "      <td>6.556725</td>\n",
       "      <td>9.593300</td>\n",
       "      <td>18.064725</td>\n",
       "      <td>4.836800</td>\n",
       "    </tr>\n",
       "    <tr>\n",
       "      <th>max</th>\n",
       "      <td>1.000000</td>\n",
       "      <td>20.315000</td>\n",
       "      <td>10.376800</td>\n",
       "      <td>19.353000</td>\n",
       "      <td>13.188300</td>\n",
       "      <td>16.671400</td>\n",
       "      <td>17.251600</td>\n",
       "      <td>8.447700</td>\n",
       "      <td>27.691800</td>\n",
       "      <td>10.151300</td>\n",
       "      <td>...</td>\n",
       "      <td>18.440900</td>\n",
       "      <td>16.716500</td>\n",
       "      <td>8.402400</td>\n",
       "      <td>18.281800</td>\n",
       "      <td>27.928800</td>\n",
       "      <td>4.272900</td>\n",
       "      <td>18.321500</td>\n",
       "      <td>12.000400</td>\n",
       "      <td>26.079100</td>\n",
       "      <td>28.500700</td>\n",
       "    </tr>\n",
       "  </tbody>\n",
       "</table>\n",
       "<p>8 rows × 201 columns</p>\n",
       "</div>"
      ],
      "text/plain": [
       "              target          var_0          var_1          var_2  \\\n",
       "count  200000.000000  200000.000000  200000.000000  200000.000000   \n",
       "mean        0.100490      10.679914      -1.627622      10.715192   \n",
       "std         0.300653       3.040051       4.050044       2.640894   \n",
       "min         0.000000       0.408400     -15.043400       2.117100   \n",
       "25%         0.000000       8.453850      -4.740025       8.722475   \n",
       "50%         0.000000      10.524750      -1.608050      10.580000   \n",
       "75%         0.000000      12.758200       1.358625      12.516700   \n",
       "max         1.000000      20.315000      10.376800      19.353000   \n",
       "\n",
       "               var_3          var_4          var_5          var_6  \\\n",
       "count  200000.000000  200000.000000  200000.000000  200000.000000   \n",
       "mean        6.796529      11.078333      -5.065317       5.408949   \n",
       "std         2.043319       1.623150       7.863267       0.866607   \n",
       "min        -0.040200       5.074800     -32.562600       2.347300   \n",
       "25%         5.254075       9.883175     -11.200350       4.767700   \n",
       "50%         6.825000      11.108250      -4.833150       5.385100   \n",
       "75%         8.324100      12.261125       0.924800       6.003000   \n",
       "max        13.188300      16.671400      17.251600       8.447700   \n",
       "\n",
       "               var_7          var_8      ...              var_190  \\\n",
       "count  200000.000000  200000.000000      ...        200000.000000   \n",
       "mean       16.545850       0.284162      ...             3.234440   \n",
       "std         3.418076       3.332634      ...             4.559922   \n",
       "min         5.349700     -10.505500      ...           -14.093300   \n",
       "25%        13.943800      -2.317800      ...            -0.058825   \n",
       "50%        16.456800       0.393700      ...             3.203600   \n",
       "75%        19.102900       2.937900      ...             6.406200   \n",
       "max        27.691800      10.151300      ...            18.440900   \n",
       "\n",
       "             var_191        var_192        var_193        var_194  \\\n",
       "count  200000.000000  200000.000000  200000.000000  200000.000000   \n",
       "mean        7.438408       1.927839       3.331774      17.993784   \n",
       "std         3.023272       1.478423       3.992030       3.135162   \n",
       "min        -2.691700      -3.814500     -11.783400       8.694400   \n",
       "25%         5.157400       0.889775       0.584600      15.629800   \n",
       "50%         7.347750       1.901300       3.396350      17.957950   \n",
       "75%         9.512525       2.949500       6.205800      20.396525   \n",
       "max        16.716500       8.402400      18.281800      27.928800   \n",
       "\n",
       "             var_195        var_196        var_197        var_198  \\\n",
       "count  200000.000000  200000.000000  200000.000000  200000.000000   \n",
       "mean       -0.142088       2.303335       8.908158      15.870720   \n",
       "std         1.429372       5.454369       0.921625       3.010945   \n",
       "min        -5.261000     -14.209600       5.960600       6.299300   \n",
       "25%        -1.170700      -1.946925       8.252800      13.829700   \n",
       "50%        -0.172700       2.408900       8.888200      15.934050   \n",
       "75%         0.829600       6.556725       9.593300      18.064725   \n",
       "max         4.272900      18.321500      12.000400      26.079100   \n",
       "\n",
       "             var_199  \n",
       "count  200000.000000  \n",
       "mean       -3.326537  \n",
       "std        10.438015  \n",
       "min       -38.852800  \n",
       "25%       -11.208475  \n",
       "50%        -2.819550  \n",
       "75%         4.836800  \n",
       "max        28.500700  \n",
       "\n",
       "[8 rows x 201 columns]"
      ]
     },
     "execution_count": 5,
     "metadata": {},
     "output_type": "execute_result"
    }
   ],
   "source": [
    "train_df.describe()"
   ]
  },
  {
   "cell_type": "code",
   "execution_count": 6,
   "metadata": {},
   "outputs": [],
   "source": [
    "features = [c for c in train_df.columns if c not in ['ID_code', 'target']]\n",
    "target = train_df['target']\n",
    "param = {\n",
    "    'bagging_freq': 5,          'bagging_fraction': 0.38,   'boost_from_average':'false',   'boost': 'gbdt',\n",
    "    'feature_fraction': 0.045,   'learning_rate': 0.0105,     'max_depth': -1,                'metric':'auc',\n",
    "    'min_data_in_leaf': 80,     'min_sum_hessian_in_leaf': 10.0,'num_leaves': 13,           'num_threads': 8,\n",
    "    'tree_learner': 'serial',   'objective': 'binary',      'verbosity': 1\n",
    "}"
   ]
  },
  {
   "cell_type": "code",
   "execution_count": 7,
   "metadata": {},
   "outputs": [],
   "source": [
    "from sklearn.model_selection import StratifiedKFold\n",
    "folds = StratifiedKFold(n_splits = 12, shuffle = False, random_state = 44000)\n",
    "oof = np.zeros(len(train_df))\n",
    "predictions = np.zeros(len(test_df))"
   ]
  },
  {
   "cell_type": "code",
   "execution_count": 8,
   "metadata": {
    "scrolled": true
   },
   "outputs": [
    {
     "name": "stdout",
     "output_type": "stream",
     "text": [
      "Fold :1\n",
      "Training until validation scores don't improve for 1000 rounds.\n",
      "[1000]\ttraining's auc: 0.901299\tvalid_1's auc: 0.882845\n",
      "[2000]\ttraining's auc: 0.912408\tvalid_1's auc: 0.890959\n",
      "[3000]\ttraining's auc: 0.91966\tvalid_1's auc: 0.895358\n",
      "[4000]\ttraining's auc: 0.925196\tvalid_1's auc: 0.897666\n",
      "[5000]\ttraining's auc: 0.929874\tvalid_1's auc: 0.89883\n",
      "[6000]\ttraining's auc: 0.934074\tvalid_1's auc: 0.899669\n",
      "[7000]\ttraining's auc: 0.937927\tvalid_1's auc: 0.900239\n",
      "[8000]\ttraining's auc: 0.941703\tvalid_1's auc: 0.900637\n",
      "[9000]\ttraining's auc: 0.945214\tvalid_1's auc: 0.900805\n",
      "[10000]\ttraining's auc: 0.948602\tvalid_1's auc: 0.9007\n",
      "Early stopping, best iteration is:\n",
      "[9281]\ttraining's auc: 0.946207\tvalid_1's auc: 0.900846\n",
      "Fold :2\n",
      "Training until validation scores don't improve for 1000 rounds.\n",
      "[1000]\ttraining's auc: 0.900982\tvalid_1's auc: 0.885907\n",
      "[2000]\ttraining's auc: 0.912388\tvalid_1's auc: 0.891921\n",
      "[3000]\ttraining's auc: 0.919733\tvalid_1's auc: 0.894824\n",
      "[4000]\ttraining's auc: 0.925317\tvalid_1's auc: 0.89661\n",
      "[5000]\ttraining's auc: 0.930093\tvalid_1's auc: 0.897642\n",
      "[6000]\ttraining's auc: 0.934365\tvalid_1's auc: 0.898061\n",
      "[7000]\ttraining's auc: 0.938298\tvalid_1's auc: 0.89828\n",
      "[8000]\ttraining's auc: 0.941948\tvalid_1's auc: 0.898368\n",
      "[9000]\ttraining's auc: 0.945431\tvalid_1's auc: 0.898458\n",
      "[10000]\ttraining's auc: 0.948821\tvalid_1's auc: 0.898495\n",
      "Early stopping, best iteration is:\n",
      "[9737]\ttraining's auc: 0.947931\tvalid_1's auc: 0.898638\n",
      "Fold :3\n",
      "Training until validation scores don't improve for 1000 rounds.\n",
      "[1000]\ttraining's auc: 0.902074\tvalid_1's auc: 0.87564\n",
      "[2000]\ttraining's auc: 0.913333\tvalid_1's auc: 0.883429\n",
      "[3000]\ttraining's auc: 0.920453\tvalid_1's auc: 0.887207\n",
      "[4000]\ttraining's auc: 0.925949\tvalid_1's auc: 0.889457\n",
      "[5000]\ttraining's auc: 0.930705\tvalid_1's auc: 0.890597\n",
      "[6000]\ttraining's auc: 0.934858\tvalid_1's auc: 0.891287\n",
      "[7000]\ttraining's auc: 0.938715\tvalid_1's auc: 0.89177\n",
      "[8000]\ttraining's auc: 0.942306\tvalid_1's auc: 0.891985\n",
      "[9000]\ttraining's auc: 0.945815\tvalid_1's auc: 0.892271\n",
      "[10000]\ttraining's auc: 0.949146\tvalid_1's auc: 0.892347\n",
      "Early stopping, best iteration is:\n",
      "[9948]\ttraining's auc: 0.94898\tvalid_1's auc: 0.892404\n",
      "Fold :4\n",
      "Training until validation scores don't improve for 1000 rounds.\n",
      "[1000]\ttraining's auc: 0.900371\tvalid_1's auc: 0.888888\n",
      "[2000]\ttraining's auc: 0.911711\tvalid_1's auc: 0.897763\n",
      "[3000]\ttraining's auc: 0.919\tvalid_1's auc: 0.901684\n",
      "[4000]\ttraining's auc: 0.924709\tvalid_1's auc: 0.903837\n",
      "[5000]\ttraining's auc: 0.929508\tvalid_1's auc: 0.905146\n",
      "[6000]\ttraining's auc: 0.933701\tvalid_1's auc: 0.905907\n",
      "[7000]\ttraining's auc: 0.937621\tvalid_1's auc: 0.906155\n",
      "[8000]\ttraining's auc: 0.941338\tvalid_1's auc: 0.906258\n",
      "[9000]\ttraining's auc: 0.944821\tvalid_1's auc: 0.906223\n",
      "Early stopping, best iteration is:\n",
      "[8625]\ttraining's auc: 0.943528\tvalid_1's auc: 0.906414\n",
      "Fold :5\n",
      "Training until validation scores don't improve for 1000 rounds.\n",
      "[1000]\ttraining's auc: 0.901262\tvalid_1's auc: 0.876285\n",
      "[2000]\ttraining's auc: 0.912634\tvalid_1's auc: 0.884969\n",
      "[3000]\ttraining's auc: 0.920026\tvalid_1's auc: 0.888695\n",
      "[4000]\ttraining's auc: 0.92568\tvalid_1's auc: 0.89071\n",
      "[5000]\ttraining's auc: 0.930396\tvalid_1's auc: 0.891902\n",
      "[6000]\ttraining's auc: 0.934546\tvalid_1's auc: 0.892598\n",
      "[7000]\ttraining's auc: 0.938453\tvalid_1's auc: 0.892793\n",
      "[8000]\ttraining's auc: 0.942073\tvalid_1's auc: 0.892944\n",
      "[9000]\ttraining's auc: 0.94556\tvalid_1's auc: 0.893082\n",
      "[10000]\ttraining's auc: 0.948864\tvalid_1's auc: 0.89321\n",
      "[11000]\ttraining's auc: 0.952037\tvalid_1's auc: 0.89315\n",
      "Early stopping, best iteration is:\n",
      "[10742]\ttraining's auc: 0.951207\tvalid_1's auc: 0.89332\n",
      "Fold :6\n",
      "Training until validation scores don't improve for 1000 rounds.\n",
      "[1000]\ttraining's auc: 0.900763\tvalid_1's auc: 0.884081\n",
      "[2000]\ttraining's auc: 0.91223\tvalid_1's auc: 0.892423\n",
      "[3000]\ttraining's auc: 0.91949\tvalid_1's auc: 0.896244\n",
      "[4000]\ttraining's auc: 0.925111\tvalid_1's auc: 0.898246\n",
      "[5000]\ttraining's auc: 0.929849\tvalid_1's auc: 0.898951\n",
      "[6000]\ttraining's auc: 0.934112\tvalid_1's auc: 0.89934\n",
      "[7000]\ttraining's auc: 0.938013\tvalid_1's auc: 0.899648\n",
      "[8000]\ttraining's auc: 0.941713\tvalid_1's auc: 0.899882\n",
      "[9000]\ttraining's auc: 0.945186\tvalid_1's auc: 0.899863\n",
      "[10000]\ttraining's auc: 0.948563\tvalid_1's auc: 0.899746\n",
      "Early stopping, best iteration is:\n",
      "[9150]\ttraining's auc: 0.945709\tvalid_1's auc: 0.899972\n",
      "Fold :7\n",
      "Training until validation scores don't improve for 1000 rounds.\n",
      "[1000]\ttraining's auc: 0.900451\tvalid_1's auc: 0.88687\n",
      "[2000]\ttraining's auc: 0.911881\tvalid_1's auc: 0.894773\n",
      "[3000]\ttraining's auc: 0.91921\tvalid_1's auc: 0.8984\n",
      "[4000]\ttraining's auc: 0.924888\tvalid_1's auc: 0.900155\n",
      "[5000]\ttraining's auc: 0.929657\tvalid_1's auc: 0.901289\n",
      "[6000]\ttraining's auc: 0.933886\tvalid_1's auc: 0.901831\n",
      "[7000]\ttraining's auc: 0.937815\tvalid_1's auc: 0.902026\n",
      "[8000]\ttraining's auc: 0.941513\tvalid_1's auc: 0.901937\n",
      "Early stopping, best iteration is:\n",
      "[7068]\ttraining's auc: 0.938056\tvalid_1's auc: 0.902082\n",
      "Fold :8\n",
      "Training until validation scores don't improve for 1000 rounds.\n",
      "[1000]\ttraining's auc: 0.900456\tvalid_1's auc: 0.890627\n",
      "[2000]\ttraining's auc: 0.911675\tvalid_1's auc: 0.897718\n",
      "[3000]\ttraining's auc: 0.919104\tvalid_1's auc: 0.900785\n",
      "[4000]\ttraining's auc: 0.924818\tvalid_1's auc: 0.902585\n",
      "[5000]\ttraining's auc: 0.929621\tvalid_1's auc: 0.903323\n",
      "[6000]\ttraining's auc: 0.93387\tvalid_1's auc: 0.903683\n",
      "[7000]\ttraining's auc: 0.937796\tvalid_1's auc: 0.903652\n",
      "Early stopping, best iteration is:\n",
      "[6167]\ttraining's auc: 0.934539\tvalid_1's auc: 0.903839\n",
      "Fold :9\n",
      "Training until validation scores don't improve for 1000 rounds.\n",
      "[1000]\ttraining's auc: 0.9011\tvalid_1's auc: 0.880143\n",
      "[2000]\ttraining's auc: 0.912301\tvalid_1's auc: 0.888948\n",
      "[3000]\ttraining's auc: 0.919614\tvalid_1's auc: 0.89322\n",
      "[4000]\ttraining's auc: 0.925266\tvalid_1's auc: 0.895547\n",
      "[5000]\ttraining's auc: 0.930027\tvalid_1's auc: 0.89709\n",
      "[6000]\ttraining's auc: 0.934203\tvalid_1's auc: 0.897728\n",
      "[7000]\ttraining's auc: 0.938071\tvalid_1's auc: 0.898082\n",
      "[8000]\ttraining's auc: 0.941756\tvalid_1's auc: 0.89822\n",
      "[9000]\ttraining's auc: 0.945189\tvalid_1's auc: 0.898231\n",
      "[10000]\ttraining's auc: 0.948538\tvalid_1's auc: 0.898219\n",
      "Early stopping, best iteration is:\n",
      "[9228]\ttraining's auc: 0.945958\tvalid_1's auc: 0.898424\n",
      "Fold :10\n",
      "Training until validation scores don't improve for 1000 rounds.\n",
      "[1000]\ttraining's auc: 0.900593\tvalid_1's auc: 0.88788\n",
      "[2000]\ttraining's auc: 0.911765\tvalid_1's auc: 0.896002\n",
      "[3000]\ttraining's auc: 0.919135\tvalid_1's auc: 0.899881\n",
      "[4000]\ttraining's auc: 0.924739\tvalid_1's auc: 0.901765\n",
      "[5000]\ttraining's auc: 0.929534\tvalid_1's auc: 0.903005\n",
      "[6000]\ttraining's auc: 0.933801\tvalid_1's auc: 0.903306\n",
      "[7000]\ttraining's auc: 0.937675\tvalid_1's auc: 0.90369\n",
      "[8000]\ttraining's auc: 0.941402\tvalid_1's auc: 0.903667\n",
      "[9000]\ttraining's auc: 0.944839\tvalid_1's auc: 0.903687\n",
      "Early stopping, best iteration is:\n",
      "[8175]\ttraining's auc: 0.942017\tvalid_1's auc: 0.903818\n",
      "Fold :11\n",
      "Training until validation scores don't improve for 1000 rounds.\n",
      "[1000]\ttraining's auc: 0.900674\tvalid_1's auc: 0.890072\n",
      "[2000]\ttraining's auc: 0.9115\tvalid_1's auc: 0.897793\n",
      "[3000]\ttraining's auc: 0.918974\tvalid_1's auc: 0.902107\n",
      "[4000]\ttraining's auc: 0.92456\tvalid_1's auc: 0.904552\n",
      "[5000]\ttraining's auc: 0.929272\tvalid_1's auc: 0.905824\n",
      "[6000]\ttraining's auc: 0.933472\tvalid_1's auc: 0.906602\n",
      "[7000]\ttraining's auc: 0.937472\tvalid_1's auc: 0.907344\n",
      "[8000]\ttraining's auc: 0.941126\tvalid_1's auc: 0.907396\n",
      "Early stopping, best iteration is:\n",
      "[7272]\ttraining's auc: 0.938448\tvalid_1's auc: 0.907576\n",
      "Fold :12\n",
      "Training until validation scores don't improve for 1000 rounds.\n",
      "[1000]\ttraining's auc: 0.901185\tvalid_1's auc: 0.885261\n",
      "[2000]\ttraining's auc: 0.912398\tvalid_1's auc: 0.89181\n",
      "[3000]\ttraining's auc: 0.919765\tvalid_1's auc: 0.895383\n",
      "[4000]\ttraining's auc: 0.925429\tvalid_1's auc: 0.89762\n",
      "[5000]\ttraining's auc: 0.93012\tvalid_1's auc: 0.898548\n",
      "[6000]\ttraining's auc: 0.93427\tvalid_1's auc: 0.898871\n",
      "[7000]\ttraining's auc: 0.938153\tvalid_1's auc: 0.899407\n",
      "Early stopping, best iteration is:\n",
      "[6535]\ttraining's auc: 0.936387\tvalid_1's auc: 0.899512\n",
      "CV score: 0.90025 CV score: 0.90025 \n"
     ]
    }
   ],
   "source": [
    "for fold_, (trn_idx, val_idx) in enumerate(folds.split(train_df.values, target.values)):\n",
    "    print(\"Fold :{}\".format(fold_ + 1))\n",
    "    trn_data = lgb.Dataset(train_df.iloc[trn_idx][features], label = target.iloc[trn_idx])\n",
    "    val_data = lgb.Dataset(train_df.iloc[val_idx][features], label = target.iloc[val_idx])\n",
    "    clf = lgb.train(param, trn_data, 100000, valid_sets = [trn_data, val_data], verbose_eval = 1000, early_stopping_rounds = 1000)\n",
    "    oof[val_idx] = clf.predict(train_df.iloc[val_idx][features], num_iteration = clf.best_iteration)\n",
    "    predictions += clf.predict(test_df[features], num_iteration = clf.best_iteration) / folds.n_splits\n",
    "sys.stdout.write(\"CV score: {:<8.5f}\".format(roc_auc_score(target, oof)))\n",
    "print(\"CV score: {:<8.5f}\".format(roc_auc_score(target, oof)))"
   ]
  },
  {
   "cell_type": "code",
   "execution_count": 9,
   "metadata": {},
   "outputs": [],
   "source": [
    "#sub = pd.DataFrame({\"ID_code\": test_df.ID_code.values})\n",
    "#sub[\"target\"] = predictions\n",
    "#sub.to_csv('submission.csv', index=False)"
   ]
  },
  {
   "cell_type": "code",
   "execution_count": 10,
   "metadata": {},
   "outputs": [],
   "source": [
    "from sklearn.model_selection import KFold\n",
    "from sklearn.metrics import roc_auc_score, confusion_matrix\n",
    "\n",
    "from sklearn.linear_model import LogisticRegression\n",
    "from sklearn.tree import DecisionTreeClassifier\n",
    "from sklearn.ensemble import RandomForestClassifier"
   ]
  },
  {
   "cell_type": "code",
   "execution_count": 18,
   "metadata": {},
   "outputs": [],
   "source": [
    "X_train, X_test, y_train, y_test = train_test_split(train_df[train_df.columns.values[1:]], \n",
    "                                                    train_df[train_df.columns.values[0]], \n",
    "                                                    test_size = 0.3, random_state = 2019)"
   ]
  },
  {
   "cell_type": "code",
   "execution_count": 19,
   "metadata": {},
   "outputs": [
    {
     "name": "stdout",
     "output_type": "stream",
     "text": [
      "(140000, 200) (60000, 200)\n"
     ]
    }
   ],
   "source": [
    "print(X_train.shape, X_test.shape)"
   ]
  },
  {
   "cell_type": "code",
   "execution_count": 20,
   "metadata": {},
   "outputs": [
    {
     "name": "stderr",
     "output_type": "stream",
     "text": [
      "/home/dind-vm/.local/lib/python3.5/site-packages/sklearn/linear_model/logistic.py:432: FutureWarning: Default solver will be changed to 'lbfgs' in 0.22. Specify a solver to silence this warning.\n",
      "  FutureWarning)\n"
     ]
    },
    {
     "data": {
      "text/plain": [
       "LogisticRegression(C=0.001, class_weight='balanced', dual=False,\n",
       "          fit_intercept=True, intercept_scaling=1, max_iter=100,\n",
       "          multi_class='warn', n_jobs=None, penalty='l2', random_state=None,\n",
       "          solver='warn', tol=0.0001, verbose=0, warm_start=False)"
      ]
     },
     "execution_count": 20,
     "metadata": {},
     "output_type": "execute_result"
    }
   ],
   "source": [
    "# work with X_train, X_test, y_train, y_test\n",
    "# Create an object of Logistic Regression with parameters C and class_weight\n",
    "logist = LogisticRegression(C = 0.001, class_weight = 'balanced')\n",
    "\n",
    "# Fit the training data on this object\n",
    "logist.fit(X_train, y_train)"
   ]
  },
  {
   "cell_type": "code",
   "execution_count": 21,
   "metadata": {},
   "outputs": [],
   "source": [
    "# Predict the Target for validation dataset \n",
    "logist_pred = logist.predict_proba(X_test)[:,1]"
   ]
  },
  {
   "cell_type": "code",
   "execution_count": 22,
   "metadata": {},
   "outputs": [],
   "source": [
    "def performance(Y_test, logist_pred):\n",
    "    logist_pred_var = [0 if i < 0.5 else 1 for i in logist_pred]\n",
    "    print('Confusion Matrix:')\n",
    "    print(confusion_matrix(Y_test, logist_pred_var)) \n",
    "      \n",
    "    #print(classification_report(Y_test, logist_pred)) \n",
    "\n",
    "    fpr, tpr, thresholds = roc_curve(Y_test, logist_pred, pos_label = 1)\n",
    "    print('AUC:')\n",
    "    print(auc(fpr, tpr))"
   ]
  },
  {
   "cell_type": "code",
   "execution_count": 23,
   "metadata": {},
   "outputs": [
    {
     "name": "stdout",
     "output_type": "stream",
     "text": [
      "Confusion Matrix:\n",
      "[[42214 11737]\n",
      " [ 1404  4645]]\n",
      "AUC:\n",
      "0.8541970967765768\n"
     ]
    }
   ],
   "source": [
    "performance(y_test, logist_pred)"
   ]
  },
  {
   "cell_type": "code",
   "execution_count": 24,
   "metadata": {},
   "outputs": [
    {
     "data": {
      "text/plain": [
       "DecisionTreeClassifier(class_weight='balanced', criterion='gini',\n",
       "            max_depth=None, max_features=0.7, max_leaf_nodes=None,\n",
       "            min_impurity_decrease=0.0, min_impurity_split=None,\n",
       "            min_samples_leaf=80, min_samples_split=2,\n",
       "            min_weight_fraction_leaf=0.0, presort=False, random_state=2019,\n",
       "            splitter='best')"
      ]
     },
     "execution_count": 24,
     "metadata": {},
     "output_type": "execute_result"
    }
   ],
   "source": [
    "# Create Decision Tree Classifier object with few parameters\n",
    "tree_clf = DecisionTreeClassifier(class_weight = 'balanced', random_state = 2019, \n",
    "                                  max_features = 0.7, min_samples_leaf = 80)\n",
    "\n",
    "# Fit the object on training data\n",
    "tree_clf.fit(X_train, y_train)"
   ]
  },
  {
   "cell_type": "code",
   "execution_count": 25,
   "metadata": {},
   "outputs": [
    {
     "name": "stdout",
     "output_type": "stream",
     "text": [
      "Confusion Matrix:\n",
      "[[35314 18637]\n",
      " [ 2629  3420]]\n",
      "AUC:\n",
      "0.6514727493199708\n"
     ]
    }
   ],
   "source": [
    "# Predict for validation set and check the performance\n",
    "tree_preds = tree_clf.predict_proba(X_test)[:, 1]\n",
    "performance(y_test, tree_preds)"
   ]
  },
  {
   "cell_type": "code",
   "execution_count": 26,
   "metadata": {},
   "outputs": [
    {
     "name": "stderr",
     "output_type": "stream",
     "text": [
      "[Parallel(n_jobs=1)]: Using backend SequentialBackend with 1 concurrent workers.\n",
      "[Parallel(n_jobs=1)]: Done 100 out of 100 | elapsed: 28.4min finished\n"
     ]
    },
    {
     "data": {
      "text/plain": [
       "RandomForestClassifier(bootstrap=True, class_weight='balanced',\n",
       "            criterion='gini', max_depth=None, max_features=0.5,\n",
       "            max_leaf_nodes=None, min_impurity_decrease=0.0,\n",
       "            min_impurity_split=None, min_samples_leaf=100,\n",
       "            min_samples_split=2, min_weight_fraction_leaf=0.0,\n",
       "            n_estimators=100, n_jobs=None, oob_score=False,\n",
       "            random_state=2019, verbose=1, warm_start=False)"
      ]
     },
     "execution_count": 26,
     "metadata": {},
     "output_type": "execute_result"
    }
   ],
   "source": [
    "# Create random Forest Object using the mentioned parameters\n",
    "random_forest = RandomForestClassifier(n_estimators = 100, random_state = 2019, verbose = 1,\n",
    "                                      class_weight = 'balanced', max_features = 0.5, \n",
    "                                       min_samples_leaf = 100)\n",
    "\n",
    "# Fit the object on training set \n",
    "random_forest.fit(X_train, y_train)"
   ]
  },
  {
   "cell_type": "code",
   "execution_count": 27,
   "metadata": {},
   "outputs": [
    {
     "name": "stderr",
     "output_type": "stream",
     "text": [
      "[Parallel(n_jobs=1)]: Using backend SequentialBackend with 1 concurrent workers.\n"
     ]
    },
    {
     "name": "stdout",
     "output_type": "stream",
     "text": [
      "Confusion Matrix:\n",
      "[[46548  7403]\n",
      " [ 2978  3071]]\n",
      "AUC:\n",
      "0.7872813411975419\n"
     ]
    },
    {
     "name": "stderr",
     "output_type": "stream",
     "text": [
      "[Parallel(n_jobs=1)]: Done 100 out of 100 | elapsed:    1.7s finished\n"
     ]
    }
   ],
   "source": [
    "# Predict the validation set target and check the performance\n",
    "forest_preds = random_forest.predict_proba(X_test)[:, 1]\n",
    "performance(y_test, forest_preds)"
   ]
  },
  {
   "cell_type": "code",
   "execution_count": 28,
   "metadata": {},
   "outputs": [
    {
     "name": "stderr",
     "output_type": "stream",
     "text": [
      "Using TensorFlow backend.\n"
     ]
    }
   ],
   "source": [
    "from keras.utils.data_utils import get_file\n",
    "from keras.layers.embeddings import Embedding\n",
    "from keras.layers.core import Dense, Dropout, RepeatVector, Lambda, Permute, Activation, Masking, Reshape\n",
    "from keras.layers import recurrent, Input, TimeDistributed, add, concatenate, Multiply, Bidirectional\n",
    "from keras.layers.recurrent import LSTM, GRU, SimpleRNN\n",
    "from keras.models import Sequential, Model\n",
    "from keras.preprocessing.sequence import pad_sequences\n",
    "from keras.callbacks import ModelCheckpoint, Callback, LearningRateScheduler\n",
    "from keras.optimizers import SGD, Adam\n",
    "from keras.layers.normalization import BatchNormalization\n",
    "\n",
    "from keras.activations import softmax\n",
    "from keras.metrics import categorical_accuracy\n",
    "import keras.backend as K\n",
    "from keras.regularizers import l2\n",
    "from keras import initializers\n",
    "#from keras.utils.visualize_util import plot\n",
    "from keras.layers.core import Layer\n",
    "\n",
    "from keras.activations import softmax, tanh, sigmoid, hard_sigmoid, relu"
   ]
  },
  {
   "cell_type": "code",
   "execution_count": 29,
   "metadata": {},
   "outputs": [],
   "source": [
    "def create_models(in_shape):\n",
    "    adam = Adam(lr = 0.0003)  # Best learning found in previous exp\n",
    "    input_layer = Input(shape = (in_shape,), name = 'input_layer')\n",
    "    dense = Dense(100, activation = 'relu')(input_layer)\n",
    "    #dense = Dropout(0.35)(dense)\n",
    "    dense = Dense(50, activation = 'relu')(dense)\n",
    "    dense = Dropout(0.30)(dense)\n",
    "    output = Dense(2, activation = 'softmax')(dense)\n",
    "    model = Model(inputs = input_layer, outputs = output)\n",
    "    model.compile(loss = 'categorical_crossentropy', optimizer = 'adam', metrics = ['accuracy'])\n",
    "    #model.compile(loss = 'binary_crossentropy', optimizer = 'adam', metrics = ['accuracy'])\n",
    "\n",
    "    #tf_thetas = tf.get_variable(\"tf_thetas\",\n",
    "    #                        initializer=thetas)\n",
    "\n",
    "    #sample_output = Lambda(lambda x: \n",
    "    #               gumbel_softmax(x, temperature,  hard = hard_val), \n",
    "    #               output_shape = (2,))(output)\n",
    "    #cond_prob = Lambda(lambda x: tf.einsum('ai,ij->aj', x[0], tf_thetas*1.),\n",
    "    #          output_shape = (2, ))([sample_output])\n",
    "\n",
    "    #model_ask = Model(inputs = input_layer, outputs = cond_prob)\n",
    "    #model_ask.compile(loss = 'categorical_crossentropy', \n",
    "    #              optimizer = adam, metrics = ['accuracy'])\n",
    "    \n",
    "    return model#, model_ask"
   ]
  },
  {
   "cell_type": "code",
   "execution_count": 30,
   "metadata": {},
   "outputs": [],
   "source": [
    "random_idx = np.random.choice(len(X_train), len(X_train), replace = False)\n",
    "\n",
    "X_train_nn = X_train.iloc[random_idx]\n",
    "y_train_nn = y_train.iloc[random_idx]"
   ]
  },
  {
   "cell_type": "code",
   "execution_count": 31,
   "metadata": {},
   "outputs": [],
   "source": [
    "K.clear_session()\n",
    "model = create_models(X_train.shape[1])"
   ]
  },
  {
   "cell_type": "code",
   "execution_count": 32,
   "metadata": {},
   "outputs": [],
   "source": [
    "from keras.utils import to_categorical\n",
    "y_binary_train = to_categorical(y_train)\n",
    "y_binary_test = to_categorical(y_test)"
   ]
  },
  {
   "cell_type": "code",
   "execution_count": 33,
   "metadata": {
    "scrolled": true
   },
   "outputs": [
    {
     "name": "stdout",
     "output_type": "stream",
     "text": [
      "Train on 140000 samples, validate on 60000 samples\n",
      "Epoch 1/50\n",
      "140000/140000 [==============================] - 18s 125us/step - loss: 0.3008 - acc: 0.8999 - val_loss: 0.2594 - val_acc: 0.9028\n",
      "Epoch 2/50\n",
      "140000/140000 [==============================] - 14s 103us/step - loss: 0.2606 - acc: 0.9064 - val_loss: 0.2495 - val_acc: 0.9092\n",
      "Epoch 3/50\n",
      "140000/140000 [==============================] - 14s 100us/step - loss: 0.2562 - acc: 0.9072 - val_loss: 0.2474 - val_acc: 0.9088\n",
      "Epoch 4/50\n",
      "140000/140000 [==============================] - 14s 102us/step - loss: 0.2541 - acc: 0.9072 - val_loss: 0.2458 - val_acc: 0.9095\n",
      "Epoch 5/50\n",
      "140000/140000 [==============================] - 14s 99us/step - loss: 0.2514 - acc: 0.9075 - val_loss: 0.2460 - val_acc: 0.9097\n",
      "Epoch 6/50\n",
      "140000/140000 [==============================] - 14s 103us/step - loss: 0.2505 - acc: 0.9086 - val_loss: 0.2489 - val_acc: 0.9095\n",
      "Epoch 7/50\n",
      "140000/140000 [==============================] - 13s 91us/step - loss: 0.2499 - acc: 0.9091 - val_loss: 0.2462 - val_acc: 0.9089\n",
      "Epoch 8/50\n",
      "140000/140000 [==============================] - 14s 99us/step - loss: 0.2491 - acc: 0.9091 - val_loss: 0.2489 - val_acc: 0.9074\n",
      "Epoch 9/50\n",
      "140000/140000 [==============================] - 13s 95us/step - loss: 0.2489 - acc: 0.9086 - val_loss: 0.2463 - val_acc: 0.9091\n",
      "Epoch 10/50\n",
      "140000/140000 [==============================] - 15s 111us/step - loss: 0.2485 - acc: 0.9085 - val_loss: 0.2424 - val_acc: 0.9103\n",
      "Epoch 11/50\n",
      "140000/140000 [==============================] - 14s 103us/step - loss: 0.2470 - acc: 0.9100 - val_loss: 0.2429 - val_acc: 0.9104\n",
      "Epoch 12/50\n",
      "140000/140000 [==============================] - 15s 106us/step - loss: 0.2468 - acc: 0.9098 - val_loss: 0.2471 - val_acc: 0.9087\n",
      "Epoch 13/50\n",
      "140000/140000 [==============================] - 14s 102us/step - loss: 0.2460 - acc: 0.9097 - val_loss: 0.2442 - val_acc: 0.9101\n",
      "Epoch 14/50\n",
      "140000/140000 [==============================] - 14s 101us/step - loss: 0.2458 - acc: 0.9094 - val_loss: 0.2422 - val_acc: 0.9103\n",
      "Epoch 15/50\n",
      "140000/140000 [==============================] - 14s 102us/step - loss: 0.2448 - acc: 0.9102 - val_loss: 0.2454 - val_acc: 0.9108\n",
      "Epoch 16/50\n",
      "140000/140000 [==============================] - 15s 109us/step - loss: 0.2454 - acc: 0.9103 - val_loss: 0.2458 - val_acc: 0.9088\n",
      "Epoch 17/50\n",
      "140000/140000 [==============================] - 15s 107us/step - loss: 0.2445 - acc: 0.9110 - val_loss: 0.2567 - val_acc: 0.9082\n",
      "Epoch 18/50\n",
      "140000/140000 [==============================] - 14s 98us/step - loss: 0.2447 - acc: 0.9102 - val_loss: 0.2444 - val_acc: 0.9101\n",
      "Epoch 19/50\n",
      "140000/140000 [==============================] - 14s 97us/step - loss: 0.2437 - acc: 0.9111 - val_loss: 0.2439 - val_acc: 0.9112\n",
      "Epoch 20/50\n",
      "140000/140000 [==============================] - 14s 101us/step - loss: 0.2437 - acc: 0.9105 - val_loss: 0.2470 - val_acc: 0.9098\n",
      "Epoch 21/50\n",
      "140000/140000 [==============================] - 14s 103us/step - loss: 0.2433 - acc: 0.9112 - val_loss: 0.2460 - val_acc: 0.9066\n",
      "Epoch 22/50\n",
      "140000/140000 [==============================] - 14s 100us/step - loss: 0.2432 - acc: 0.9107 - val_loss: 0.2435 - val_acc: 0.9103\n",
      "Epoch 23/50\n",
      "140000/140000 [==============================] - 14s 98us/step - loss: 0.2440 - acc: 0.9104 - val_loss: 0.2444 - val_acc: 0.9099\n",
      "Epoch 24/50\n",
      "140000/140000 [==============================] - 16s 111us/step - loss: 0.2430 - acc: 0.9109 - val_loss: 0.2467 - val_acc: 0.9083\n",
      "Epoch 25/50\n",
      "140000/140000 [==============================] - 14s 98us/step - loss: 0.2428 - acc: 0.9112 - val_loss: 0.2416 - val_acc: 0.9108\n",
      "Epoch 26/50\n",
      "140000/140000 [==============================] - 15s 105us/step - loss: 0.2428 - acc: 0.9110 - val_loss: 0.2644 - val_acc: 0.9073\n",
      "Epoch 27/50\n",
      "140000/140000 [==============================] - 14s 102us/step - loss: 0.2424 - acc: 0.9112 - val_loss: 0.2417 - val_acc: 0.9110\n",
      "Epoch 28/50\n",
      "140000/140000 [==============================] - 15s 108us/step - loss: 0.2425 - acc: 0.9107 - val_loss: 0.2556 - val_acc: 0.9055\n",
      "Epoch 29/50\n",
      "140000/140000 [==============================] - 14s 99us/step - loss: 0.2428 - acc: 0.9109 - val_loss: 0.2428 - val_acc: 0.9096\n",
      "Epoch 30/50\n",
      "140000/140000 [==============================] - 15s 105us/step - loss: 0.2420 - acc: 0.9108 - val_loss: 0.2413 - val_acc: 0.9111\n",
      "Epoch 31/50\n",
      "140000/140000 [==============================] - 14s 100us/step - loss: 0.2420 - acc: 0.9111 - val_loss: 0.2433 - val_acc: 0.9100\n",
      "Epoch 32/50\n",
      "140000/140000 [==============================] - 15s 106us/step - loss: 0.2424 - acc: 0.9113 - val_loss: 0.2423 - val_acc: 0.9099\n",
      "Epoch 33/50\n",
      "140000/140000 [==============================] - 14s 101us/step - loss: 0.2419 - acc: 0.9115 - val_loss: 0.2455 - val_acc: 0.9092\n",
      "Epoch 34/50\n",
      "140000/140000 [==============================] - 16s 111us/step - loss: 0.2415 - acc: 0.9117 - val_loss: 0.2438 - val_acc: 0.9096\n",
      "Epoch 35/50\n",
      "140000/140000 [==============================] - 16s 116us/step - loss: 0.2420 - acc: 0.9115 - val_loss: 0.2430 - val_acc: 0.9104\n",
      "Epoch 36/50\n",
      "140000/140000 [==============================] - 15s 107us/step - loss: 0.2414 - acc: 0.9113 - val_loss: 0.2418 - val_acc: 0.9098\n",
      "Epoch 37/50\n",
      "140000/140000 [==============================] - 15s 108us/step - loss: 0.2415 - acc: 0.9118 - val_loss: 0.2415 - val_acc: 0.9109\n",
      "Epoch 38/50\n",
      "140000/140000 [==============================] - 15s 108us/step - loss: 0.2414 - acc: 0.9112 - val_loss: 0.2412 - val_acc: 0.9115\n",
      "Epoch 39/50\n",
      "140000/140000 [==============================] - 14s 99us/step - loss: 0.2416 - acc: 0.9110 - val_loss: 0.2428 - val_acc: 0.9103\n",
      "Epoch 40/50\n",
      "140000/140000 [==============================] - 14s 103us/step - loss: 0.2415 - acc: 0.9112 - val_loss: 0.2449 - val_acc: 0.9098\n",
      "Epoch 41/50\n",
      "140000/140000 [==============================] - 15s 108us/step - loss: 0.2414 - acc: 0.9111 - val_loss: 0.2471 - val_acc: 0.9095\n",
      "Epoch 42/50\n",
      "140000/140000 [==============================] - 15s 104us/step - loss: 0.2407 - acc: 0.9116 - val_loss: 0.2493 - val_acc: 0.9087\n",
      "Epoch 43/50\n",
      "140000/140000 [==============================] - 15s 111us/step - loss: 0.2406 - acc: 0.9118 - val_loss: 0.2488 - val_acc: 0.9105\n",
      "Epoch 44/50\n",
      "140000/140000 [==============================] - 15s 107us/step - loss: 0.2405 - acc: 0.9119 - val_loss: 0.2402 - val_acc: 0.9114\n",
      "Epoch 45/50\n",
      "140000/140000 [==============================] - 15s 107us/step - loss: 0.2407 - acc: 0.9117 - val_loss: 0.2406 - val_acc: 0.9106\n",
      "Epoch 46/50\n",
      "140000/140000 [==============================] - 15s 105us/step - loss: 0.2405 - acc: 0.9114 - val_loss: 0.2477 - val_acc: 0.9072\n",
      "Epoch 47/50\n",
      "140000/140000 [==============================] - 14s 102us/step - loss: 0.2405 - acc: 0.9119 - val_loss: 0.2487 - val_acc: 0.9085\n",
      "Epoch 48/50\n",
      "140000/140000 [==============================] - 15s 108us/step - loss: 0.2405 - acc: 0.9117 - val_loss: 0.2536 - val_acc: 0.9081\n",
      "Epoch 49/50\n",
      "140000/140000 [==============================] - 14s 103us/step - loss: 0.2404 - acc: 0.9121 - val_loss: 0.2470 - val_acc: 0.9100\n",
      "Epoch 50/50\n",
      "140000/140000 [==============================] - 15s 104us/step - loss: 0.2402 - acc: 0.9117 - val_loss: 0.2427 - val_acc: 0.9098\n"
     ]
    }
   ],
   "source": [
    "# Make severl models, computes and average them. Consider Kfold, SVM, NN, Logisteic Regression, Light GBM and several configurations of them\n",
    "h = model.fit(X_train, y_binary_train, \n",
    "              epochs = 50, validation_data = (X_test, y_binary_test),\n",
    "              batch_size = 25,\n",
    "              verbose = 1)"
   ]
  },
  {
   "cell_type": "code",
   "execution_count": 34,
   "metadata": {},
   "outputs": [],
   "source": [
    "y_predicted_nn = model.predict(X_test)"
   ]
  },
  {
   "cell_type": "code",
   "execution_count": 35,
   "metadata": {},
   "outputs": [],
   "source": [
    "temp_nn_predic = []\n",
    "for i in range(len(y_predicted_nn)):\n",
    "    if y_predicted_nn[i,0] > y_predicted_nn[i,1]:\n",
    "        temp_nn_predic.append(0)\n",
    "    else:\n",
    "        temp_nn_predic.append(1)"
   ]
  },
  {
   "cell_type": "code",
   "execution_count": 36,
   "metadata": {},
   "outputs": [
    {
     "data": {
      "image/png": "[encoded data removed]",
      "text/plain": [
       "<Figure size 432x288 with 1 Axes>"
      ]
     },
     "metadata": {
      "needs_background": "light"
     },
     "output_type": "display_data"
    }
   ],
   "source": [
    "# There is no gain with more layers!\n",
    "fpr_nn, tpr_nn, threshold_nn = roc_curve(y_test, temp_nn_predic)\n",
    "roc_auc_nn = auc(fpr_nn, tpr_nn)\n",
    "\n",
    "plt.title('Receiver Operating Characteristic')\n",
    "plt.plot(fpr_nn, tpr_nn, 'b', label = 'AUC = %0.2f' % roc_auc_nn)\n",
    "plt.legend(loc = 'lower right')\n",
    "plt.plot([0, 1], [0, 1],'r--')\n",
    "plt.xlim([0, 1])\n",
    "plt.ylim([0, 1])\n",
    "plt.ylabel('True Positive Rate')\n",
    "plt.xlabel('False Positive Rate')\n",
    "plt.show()"
   ]
  },
  {
   "cell_type": "code",
   "execution_count": null,
   "metadata": {},
   "outputs": [],
   "source": []
  }
 ],
 "metadata": {
  "kernelspec": {
   "display_name": "Python 3",
   "language": "python",
   "name": "python3"
  },
  "language_info": {
   "codemirror_mode": {
    "name": "ipython",
    "version": 3
   },
   "file_extension": ".py",
   "mimetype": "text/x-python",
   "name": "python",
   "nbconvert_exporter": "python",
   "pygments_lexer": "ipython3",
   "version": "3.5.2"
  }
 },
 "nbformat": 4,
 "nbformat_minor": 2
}
